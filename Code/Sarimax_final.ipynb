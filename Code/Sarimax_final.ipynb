{
 "cells": [
  {
   "cell_type": "markdown",
   "metadata": {
    "id": "MQ0Nr969Ek_C"
   },
   "source": [
    "## IMPORT"
   ]
  },
  {
   "cell_type": "code",
   "execution_count": 1,
   "metadata": {},
   "outputs": [
    {
     "name": "stdout",
     "output_type": "stream",
     "text": [
      "\n",
      "The following command must be run outside of the IPython shell:\n",
      "\n",
      "    $ pip install --upgrade pip\n",
      "\n",
      "The Python package manager (pip) can only be used from outside of IPython.\n",
      "Please reissue the `pip` command in a separate terminal or command prompt.\n",
      "\n",
      "See the Python documentation for more informations on how to install packages:\n",
      "\n",
      "    https://docs.python.org/3/installing/\n"
     ]
    }
   ],
   "source": [
    "pip install --upgrade pip"
   ]
  },
  {
   "cell_type": "code",
   "execution_count": 2,
   "metadata": {
    "colab": {
     "base_uri": "https://localhost:8080/"
    },
    "id": "VJgiuOGPBlIs",
    "outputId": "ca4dc002-1965-44fa-a92d-afd5aaefbd18"
   },
   "outputs": [
    {
     "name": "stdout",
     "output_type": "stream",
     "text": [
      "Requirement already satisfied: pmdarima in ./anaconda3/lib/python3.6/site-packages (1.8.2)\n",
      "Requirement already satisfied: joblib>=0.11 in ./anaconda3/lib/python3.6/site-packages (from pmdarima) (1.0.1)\n",
      "Requirement already satisfied: urllib3 in ./anaconda3/lib/python3.6/site-packages (from pmdarima) (1.22)\n",
      "Requirement already satisfied: statsmodels!=0.12.0,>=0.11 in ./anaconda3/lib/python3.6/site-packages (from pmdarima) (0.12.2)\n",
      "Requirement already satisfied: Cython!=0.29.18,>=0.29 in ./anaconda3/lib/python3.6/site-packages (from pmdarima) (0.29.23)\n",
      "Requirement already satisfied: scipy>=1.3.2 in ./anaconda3/lib/python3.6/site-packages (from pmdarima) (1.5.4)\n",
      "Requirement already satisfied: numpy~=1.19.0 in ./anaconda3/lib/python3.6/site-packages (from pmdarima) (1.19.5)\n",
      "Requirement already satisfied: setuptools!=50.0.0,>=38.6.0 in ./anaconda3/lib/python3.6/site-packages (from pmdarima) (57.0.0)\n",
      "Requirement already satisfied: pandas>=0.19 in ./anaconda3/lib/python3.6/site-packages (from pmdarima) (1.1.5)\n",
      "Requirement already satisfied: scikit-learn>=0.22 in ./anaconda3/lib/python3.6/site-packages (from pmdarima) (0.24.2)\n",
      "Requirement already satisfied: python-dateutil>=2.7.3 in ./anaconda3/lib/python3.6/site-packages (from pandas>=0.19->pmdarima) (2.8.1)\n",
      "Requirement already satisfied: pytz>=2017.2 in ./anaconda3/lib/python3.6/site-packages (from pandas>=0.19->pmdarima) (2021.1)\n",
      "Requirement already satisfied: six>=1.5 in ./anaconda3/lib/python3.6/site-packages (from python-dateutil>=2.7.3->pandas>=0.19->pmdarima) (1.16.0)\n",
      "Requirement already satisfied: threadpoolctl>=2.0.0 in ./anaconda3/lib/python3.6/site-packages (from scikit-learn>=0.22->pmdarima) (2.1.0)\n",
      "Requirement already satisfied: patsy>=0.5 in ./anaconda3/lib/python3.6/site-packages (from statsmodels!=0.12.0,>=0.11->pmdarima) (0.5.1)\n"
     ]
    }
   ],
   "source": [
    "!pip install pmdarima"
   ]
  },
  {
   "cell_type": "code",
   "execution_count": 3,
   "metadata": {},
   "outputs": [
    {
     "name": "stdout",
     "output_type": "stream",
     "text": [
      "Requirement already satisfied: seaborn in ./anaconda3/lib/python3.6/site-packages (0.8)\n",
      "Requirement already satisfied: numpy in ./anaconda3/lib/python3.6/site-packages (from seaborn) (1.19.5)\n",
      "Requirement already satisfied: scipy in ./anaconda3/lib/python3.6/site-packages (from seaborn) (1.5.4)\n",
      "Requirement already satisfied: matplotlib in ./anaconda3/lib/python3.6/site-packages (from seaborn) (2.0.2)\n",
      "Requirement already satisfied: pandas in ./anaconda3/lib/python3.6/site-packages (from seaborn) (1.1.5)\n",
      "Requirement already satisfied: six>=1.10 in ./anaconda3/lib/python3.6/site-packages (from matplotlib->seaborn) (1.16.0)\n",
      "Requirement already satisfied: python-dateutil in ./anaconda3/lib/python3.6/site-packages (from matplotlib->seaborn) (2.8.1)\n",
      "Requirement already satisfied: pytz in ./anaconda3/lib/python3.6/site-packages (from matplotlib->seaborn) (2021.1)\n",
      "Requirement already satisfied: cycler>=0.10 in ./anaconda3/lib/python3.6/site-packages (from matplotlib->seaborn) (0.10.0)\n",
      "Requirement already satisfied: pyparsing!=2.0.4,!=2.1.2,!=2.1.6,>=1.5.6 in ./anaconda3/lib/python3.6/site-packages (from matplotlib->seaborn) (2.2.0)\n"
     ]
    }
   ],
   "source": [
    "!pip install seaborn"
   ]
  },
  {
   "cell_type": "code",
   "execution_count": 1,
   "metadata": {
    "id": "URtR7fu7BlI8"
   },
   "outputs": [],
   "source": [
    "from statsmodels.tsa.seasonal import seasonal_decompose\n",
    "from pmdarima import auto_arima\n",
    "from statsmodels.tsa.statespace.sarimax import SARIMAX\n",
    "import pandas as pd"
   ]
  },
  {
   "cell_type": "code",
   "execution_count": 50,
   "metadata": {
    "id": "qihVeeq9BlI_"
   },
   "outputs": [],
   "source": [
    "train_dangjin_floating = pd.read_csv('dangjin_floating_train_0526.csv')\n",
    "train_dangjin_warehouse = pd.read_csv('dangjin_warehouse_train_0526.csv')\n",
    "train_dangjin = pd.read_csv('dangjin_train_0526.csv')\n",
    "train_ulsan = pd.read_csv('ulsan_train_0526.csv')\n",
    "\n",
    "test_dangjin_floating = pd.read_csv('dangjin_floating_test_0526.csv')\n",
    "test_dangjin_warehouse = pd.read_csv('dangjin_warehouse_test_0526.csv')\n",
    "test_dangjin = pd.read_csv('dangjin_test_0526.csv')\n",
    "test_ulsan = pd.read_csv('ulsan_test_0526.csv')"
   ]
  },
  {
   "cell_type": "markdown",
   "metadata": {},
   "source": [
    "train_ulsan = pd.read_csv('ulsan_train_0526.csv',index_col='date',parse_dates=True)"
   ]
  },
  {
   "cell_type": "markdown",
   "metadata": {
    "id": "4SFPx8F5BlJW"
   },
   "source": [
    "## energy na값 잘라내기 (train dangjin_floating, dangjin_warehouse)"
   ]
  },
  {
   "cell_type": "markdown",
   "metadata": {
    "id": "rmE5Qn9Dv1Bj"
   },
   "source": [
    "dangjin_warehouse는 2018년 3월 17일, 18일이 다 비어있음.\n",
    "\n",
    "index 336부터 383까지"
   ]
  },
  {
   "cell_type": "code",
   "execution_count": 5,
   "metadata": {
    "id": "yCRaIFJOyVAs"
   },
   "outputs": [],
   "source": [
    "train_dangjin_warehouse=train_dangjin_warehouse.drop(list(range(336,384,1)))"
   ]
  },
  {
   "cell_type": "code",
   "execution_count": 6,
   "metadata": {
    "colab": {
     "base_uri": "https://localhost:8080/"
    },
    "id": "2dyUhSb-ZlHo",
    "outputId": "905d0005-5ffc-498e-f660-4a99ef086f46"
   },
   "outputs": [
    {
     "data": {
      "text/html": [
       "<div>\n",
       "<style scoped>\n",
       "    .dataframe tbody tr th:only-of-type {\n",
       "        vertical-align: middle;\n",
       "    }\n",
       "\n",
       "    .dataframe tbody tr th {\n",
       "        vertical-align: top;\n",
       "    }\n",
       "\n",
       "    .dataframe thead th {\n",
       "        text-align: right;\n",
       "    }\n",
       "</style>\n",
       "<table border=\"1\" class=\"dataframe\">\n",
       "  <thead>\n",
       "    <tr style=\"text-align: right;\">\n",
       "      <th></th>\n",
       "      <th>date</th>\n",
       "      <th>T3</th>\n",
       "      <th>Wx3</th>\n",
       "      <th>Wy3</th>\n",
       "      <th>H3</th>\n",
       "      <th>C3</th>\n",
       "      <th>dp3</th>\n",
       "      <th>FD3</th>\n",
       "      <th>T6</th>\n",
       "      <th>Wx6</th>\n",
       "      <th>...</th>\n",
       "      <th>dayofyear</th>\n",
       "      <th>hour</th>\n",
       "      <th>sin_hour</th>\n",
       "      <th>cos_hour</th>\n",
       "      <th>sin_dayofyear</th>\n",
       "      <th>cos_dayofyear</th>\n",
       "      <th>sin(elev ang)</th>\n",
       "      <th>sin(azimuth ang)</th>\n",
       "      <th>cos(azimuth ang)</th>\n",
       "      <th>energy</th>\n",
       "    </tr>\n",
       "  </thead>\n",
       "  <tbody>\n",
       "  </tbody>\n",
       "</table>\n",
       "<p>0 rows × 45 columns</p>\n",
       "</div>"
      ],
      "text/plain": [
       "Empty DataFrame\n",
       "Columns: [date, T3, Wx3, Wy3, H3, C3, dp3, FD3, T6, Wx6, Wy6, H3.1, C6, dp6, FD6, T12, Wx12, Wy12, H12, C12, dp12, FD12, T24, Wx24, Wy24, H24, C24, dp24, FD24, Temperature, Humidity, Cloud, Wind_x, Wind_y, dew_point(째C), dayofyear, hour, sin_hour, cos_hour, sin_dayofyear, cos_dayofyear, sin(elev ang), sin(azimuth ang), cos(azimuth ang), energy]\n",
       "Index: []\n",
       "\n",
       "[0 rows x 45 columns]"
      ]
     },
     "execution_count": 6,
     "metadata": {},
     "output_type": "execute_result"
    }
   ],
   "source": [
    "train_dangjin_warehouse[train_dangjin_warehouse['energy'].isna()]"
   ]
  },
  {
   "cell_type": "markdown",
   "metadata": {
    "id": "vIzOdGV9v0CZ"
   },
   "source": [
    "dangjin_floating는 2020년 6월 26일이 다 비어있음.\n",
    "\n",
    "index 20280부터 20303까지"
   ]
  },
  {
   "cell_type": "code",
   "execution_count": 7,
   "metadata": {
    "id": "p4PVchDUzY5H"
   },
   "outputs": [],
   "source": [
    "train_dangjin_floating=train_dangjin_floating.drop(list(range(20280,20304,1)))"
   ]
  },
  {
   "cell_type": "code",
   "execution_count": 8,
   "metadata": {
    "colab": {
     "base_uri": "https://localhost:8080/"
    },
    "id": "kmm3WCdGwGKe",
    "outputId": "58fd42dd-0542-4ccf-a59e-1e320410c89d"
   },
   "outputs": [
    {
     "data": {
      "text/html": [
       "<div>\n",
       "<style scoped>\n",
       "    .dataframe tbody tr th:only-of-type {\n",
       "        vertical-align: middle;\n",
       "    }\n",
       "\n",
       "    .dataframe tbody tr th {\n",
       "        vertical-align: top;\n",
       "    }\n",
       "\n",
       "    .dataframe thead th {\n",
       "        text-align: right;\n",
       "    }\n",
       "</style>\n",
       "<table border=\"1\" class=\"dataframe\">\n",
       "  <thead>\n",
       "    <tr style=\"text-align: right;\">\n",
       "      <th></th>\n",
       "      <th>date</th>\n",
       "      <th>T3</th>\n",
       "      <th>Wx3</th>\n",
       "      <th>Wy3</th>\n",
       "      <th>H3</th>\n",
       "      <th>C3</th>\n",
       "      <th>dp3</th>\n",
       "      <th>FD3</th>\n",
       "      <th>T6</th>\n",
       "      <th>Wx6</th>\n",
       "      <th>...</th>\n",
       "      <th>dayofyear</th>\n",
       "      <th>hour</th>\n",
       "      <th>sin_hour</th>\n",
       "      <th>cos_hour</th>\n",
       "      <th>sin_dayofyear</th>\n",
       "      <th>cos_dayofyear</th>\n",
       "      <th>sin(elev ang)</th>\n",
       "      <th>sin(azimuth ang)</th>\n",
       "      <th>cos(azimuth ang)</th>\n",
       "      <th>energy</th>\n",
       "    </tr>\n",
       "  </thead>\n",
       "  <tbody>\n",
       "  </tbody>\n",
       "</table>\n",
       "<p>0 rows × 45 columns</p>\n",
       "</div>"
      ],
      "text/plain": [
       "Empty DataFrame\n",
       "Columns: [date, T3, Wx3, Wy3, H3, C3, dp3, FD3, T6, Wx6, Wy6, H3.1, C6, dp6, FD6, T12, Wx12, Wy12, H12, C12, dp12, FD12, T24, Wx24, Wy24, H24, C24, dp24, FD24, Temperature, Humidity, Cloud, Wind_x, Wind_y, dew_point(째C), dayofyear, hour, sin_hour, cos_hour, sin_dayofyear, cos_dayofyear, sin(elev ang), sin(azimuth ang), cos(azimuth ang), energy]\n",
       "Index: []\n",
       "\n",
       "[0 rows x 45 columns]"
      ]
     },
     "execution_count": 8,
     "metadata": {},
     "output_type": "execute_result"
    }
   ],
   "source": [
    "train_dangjin_floating[train_dangjin_floating['energy'].isna()]"
   ]
  },
  {
   "cell_type": "markdown",
   "metadata": {
    "id": "2fx1QywGBlJB"
   },
   "source": [
    "## PCA\n",
    "\n",
    "### ->이제 principal DF로 독립변수 새롭게 밑에서 arima돌릴 때 exogenous 변수로 사용."
   ]
  },
  {
   "cell_type": "code",
   "execution_count": 8,
   "metadata": {
    "id": "veZtJkmLBlJG"
   },
   "outputs": [],
   "source": [
    "from sklearn.decomposition import PCA"
   ]
  },
  {
   "cell_type": "code",
   "execution_count": 9,
   "metadata": {},
   "outputs": [],
   "source": [
    "pd.set_option('display.max_columns',None)"
   ]
  },
  {
   "cell_type": "code",
   "execution_count": 10,
   "metadata": {},
   "outputs": [],
   "source": [
    "corrMatrix = train_ulsan.corr()"
   ]
  },
  {
   "cell_type": "markdown",
   "metadata": {
    "id": "wPNXZ_dlZpEo"
   },
   "source": [
    "### ulsan"
   ]
  },
  {
   "cell_type": "markdown",
   "metadata": {
    "id": "NwIOrIdCQZcs"
   },
   "source": [
    "#### train"
   ]
  },
  {
   "cell_type": "code",
   "execution_count": 51,
   "metadata": {},
   "outputs": [
    {
     "data": {
      "text/plain": [
       "Index(['date', 'T3', 'Wx3', 'Wy3', 'H3', 'C3', 'dp3', 'FD3', 'T6', 'Wx6',\n",
       "       'Wy6', 'H3.1', 'C6', 'dp6', 'FD6', 'T12', 'Wx12', 'Wy12', 'H12', 'C12',\n",
       "       'dp12', 'FD12', 'T24', 'Wx24', 'Wy24', 'H24', 'C24', 'dp24', 'FD24',\n",
       "       'Temperature', 'Humidity', 'Cloud', 'Wind_x', 'Wind_y', 'dew_point(째C)',\n",
       "       'dayofyear', 'hour', 'sin_hour', 'cos_hour', 'sin_dayofyear',\n",
       "       'cos_dayofyear', 'sin(elev ang)', 'sin(azimuth ang)',\n",
       "       'cos(azimuth ang)', 'energy'],\n",
       "      dtype='object')"
      ]
     },
     "execution_count": 51,
     "metadata": {},
     "output_type": "execute_result"
    }
   ],
   "source": [
    "train_ulsan.columns"
   ]
  },
  {
   "cell_type": "code",
   "execution_count": 52,
   "metadata": {},
   "outputs": [],
   "source": [
    "train_ulsan_x=train_ulsan[['T3','Wx3','Wy3','H3','C3','dp3','FD3','cos_hour',\n",
    "                           'sin(azimuth ang)','sin_dayofyear']]"
   ]
  },
  {
   "cell_type": "code",
   "execution_count": 53,
   "metadata": {
    "id": "7UYFYzazBlJK"
   },
   "outputs": [],
   "source": [
    "train_ulsan_y=train_ulsan['energy']"
   ]
  },
  {
   "cell_type": "code",
   "execution_count": 54,
   "metadata": {
    "id": "gGf5CenDBlJL",
    "scrolled": true
   },
   "outputs": [],
   "source": [
    "pca = PCA(n_components=2) # 주성분을 몇개로 할지 결정\n",
    "principalComponents = pca.fit_transform(train_ulsan_x)"
   ]
  },
  {
   "cell_type": "code",
   "execution_count": 55,
   "metadata": {
    "colab": {
     "base_uri": "https://localhost:8080/"
    },
    "id": "TnPxeHBCBlJM",
    "outputId": "a2dd4a17-ccf1-424e-f817-ac8eafca6298"
   },
   "outputs": [
    {
     "data": {
      "text/plain": [
       "array([0.6218552 , 0.26754622])"
      ]
     },
     "execution_count": 55,
     "metadata": {},
     "output_type": "execute_result"
    }
   ],
   "source": [
    "pca.explained_variance_ratio_"
   ]
  },
  {
   "cell_type": "code",
   "execution_count": 56,
   "metadata": {
    "colab": {
     "base_uri": "https://localhost:8080/"
    },
    "id": "o29UQmDGBlJO",
    "outputId": "02082af5-55b3-4317-eb7c-6e4523cfdd8e"
   },
   "outputs": [
    {
     "data": {
      "text/plain": [
       "0.8894014134647164"
      ]
     },
     "execution_count": 56,
     "metadata": {},
     "output_type": "execute_result"
    }
   ],
   "source": [
    "sum(pca.explained_variance_ratio_)"
   ]
  },
  {
   "cell_type": "code",
   "execution_count": 57,
   "metadata": {
    "id": "oMNDLbXiBlJP"
   },
   "outputs": [],
   "source": [
    "principalDf = pd.DataFrame(data=principalComponents, columns = ['principal component1', 'principal component2'])"
   ]
  },
  {
   "cell_type": "code",
   "execution_count": 58,
   "metadata": {
    "id": "8qn7qTa7BlJQ"
   },
   "outputs": [],
   "source": [
    "train_ulsan['principal component1']=principalDf['principal component1']"
   ]
  },
  {
   "cell_type": "code",
   "execution_count": 59,
   "metadata": {
    "id": "a5rUKnN1BlJR"
   },
   "outputs": [],
   "source": [
    "train_ulsan['principal component2']=principalDf['principal component2']"
   ]
  },
  {
   "cell_type": "markdown",
   "metadata": {
    "id": "v0o7bvuNBlJS"
   },
   "source": [
    "#### test"
   ]
  },
  {
   "cell_type": "code",
   "execution_count": 60,
   "metadata": {
    "id": "b2JC3En-BlJT"
   },
   "outputs": [],
   "source": [
    "test_ulsan_x=test_ulsan[['T3','Wx3','Wy3','H3','C3','dp3','FD3','cos_hour',\n",
    "                           'sin(azimuth ang)','sin_dayofyear']]"
   ]
  },
  {
   "cell_type": "code",
   "execution_count": 61,
   "metadata": {
    "id": "9Zm059fCBlJU"
   },
   "outputs": [],
   "source": [
    "pca = PCA(n_components=2) # 주성분을 몇개로 할지 결정\n",
    "principalComponents = pca.fit_transform(test_ulsan_x)"
   ]
  },
  {
   "cell_type": "code",
   "execution_count": 62,
   "metadata": {
    "id": "th6eSO-3BlJV"
   },
   "outputs": [],
   "source": [
    "principalDf = pd.DataFrame(data=principalComponents, columns = ['principal component1', 'principal component2'])"
   ]
  },
  {
   "cell_type": "code",
   "execution_count": 63,
   "metadata": {},
   "outputs": [
    {
     "data": {
      "text/plain": [
       "0.9348094785303671"
      ]
     },
     "execution_count": 63,
     "metadata": {},
     "output_type": "execute_result"
    }
   ],
   "source": [
    "sum(pca.explained_variance_ratio_)"
   ]
  },
  {
   "cell_type": "code",
   "execution_count": 64,
   "metadata": {
    "id": "L0piu17hBlJV"
   },
   "outputs": [],
   "source": [
    "test_ulsan['principal component1']=principalDf['principal component1']"
   ]
  },
  {
   "cell_type": "code",
   "execution_count": 65,
   "metadata": {
    "id": "LL9m4WjZBlJW"
   },
   "outputs": [],
   "source": [
    "test_ulsan['principal component2']=principalDf['principal component2']"
   ]
  },
  {
   "cell_type": "markdown",
   "metadata": {
    "id": "VkHOqZjcZpMG"
   },
   "source": [
    "### dangjin"
   ]
  },
  {
   "cell_type": "markdown",
   "metadata": {
    "id": "95xRqKOoRqF4"
   },
   "source": [
    "#### train"
   ]
  },
  {
   "cell_type": "code",
   "execution_count": 26,
   "metadata": {},
   "outputs": [],
   "source": [
    "train_dangjin_x=train_dangjin[['T3','Wx3','Wy3','H3','C3','dp3','FD3','cos_hour',\n",
    "                           'sin(azimuth ang)','sin_dayofyear']]"
   ]
  },
  {
   "cell_type": "code",
   "execution_count": 27,
   "metadata": {
    "id": "ZIvRXDvTaAg_"
   },
   "outputs": [],
   "source": [
    "train_dangjin_y=train_dangjin['energy']"
   ]
  },
  {
   "cell_type": "code",
   "execution_count": 28,
   "metadata": {
    "id": "rL50bf8SaAjm"
   },
   "outputs": [],
   "source": [
    "pca = PCA(n_components=2) # 주성분을 몇개로 할지 결정\n",
    "principalComponents = pca.fit_transform(train_dangjin_x)"
   ]
  },
  {
   "cell_type": "code",
   "execution_count": 29,
   "metadata": {
    "colab": {
     "base_uri": "https://localhost:8080/"
    },
    "id": "LAhZz00KaAwa",
    "outputId": "1b7ce5d4-77a3-4448-a311-88e903f56475"
   },
   "outputs": [
    {
     "data": {
      "text/plain": [
       "array([0.54160469, 0.31689256])"
      ]
     },
     "execution_count": 29,
     "metadata": {},
     "output_type": "execute_result"
    }
   ],
   "source": [
    "pca.explained_variance_ratio_"
   ]
  },
  {
   "cell_type": "code",
   "execution_count": 30,
   "metadata": {
    "colab": {
     "base_uri": "https://localhost:8080/"
    },
    "id": "d1cv_criaA5T",
    "outputId": "0827ba89-a454-4ac6-cb29-41a66f9d1996"
   },
   "outputs": [
    {
     "data": {
      "text/plain": [
       "0.8584972521962222"
      ]
     },
     "execution_count": 30,
     "metadata": {},
     "output_type": "execute_result"
    }
   ],
   "source": [
    "sum(pca.explained_variance_ratio_)"
   ]
  },
  {
   "cell_type": "code",
   "execution_count": 31,
   "metadata": {
    "id": "s4zoi2ljaA7A"
   },
   "outputs": [],
   "source": [
    "principalDf = pd.DataFrame(data=principalComponents, columns = ['principal component1', 'principal component2'])"
   ]
  },
  {
   "cell_type": "code",
   "execution_count": 32,
   "metadata": {
    "id": "tyOs3SC-ahf-"
   },
   "outputs": [],
   "source": [
    "train_dangjin['principal component1']=principalDf['principal component1']"
   ]
  },
  {
   "cell_type": "code",
   "execution_count": 33,
   "metadata": {
    "id": "Wp_Sk5Nuahik"
   },
   "outputs": [],
   "source": [
    "train_dangjin['principal component2']=principalDf['principal component2']"
   ]
  },
  {
   "cell_type": "markdown",
   "metadata": {
    "id": "Z-wN6y3uRuaV"
   },
   "source": [
    "#### test"
   ]
  },
  {
   "cell_type": "code",
   "execution_count": 34,
   "metadata": {},
   "outputs": [],
   "source": [
    "test_dangjin_x=test_dangjin[['T3','Wx3','Wy3','H3','C3','dp3','FD3','cos_hour',\n",
    "                           'sin(azimuth ang)','sin_dayofyear']]"
   ]
  },
  {
   "cell_type": "code",
   "execution_count": 35,
   "metadata": {
    "id": "_Lh83AWPRvt5"
   },
   "outputs": [],
   "source": [
    "pca = PCA(n_components=2) # 주성분을 몇개로 할지 결정\n",
    "principalComponents = pca.fit_transform(test_dangjin_x)"
   ]
  },
  {
   "cell_type": "code",
   "execution_count": 36,
   "metadata": {
    "id": "mfpcKyCaRvvi"
   },
   "outputs": [],
   "source": [
    "principalDf = pd.DataFrame(data=principalComponents, columns = ['principal component1', 'principal component2'])"
   ]
  },
  {
   "cell_type": "code",
   "execution_count": 37,
   "metadata": {
    "id": "zyf8dkOjRv8T"
   },
   "outputs": [],
   "source": [
    "test_dangjin['principal component1']=principalDf['principal component1']"
   ]
  },
  {
   "cell_type": "code",
   "execution_count": 38,
   "metadata": {
    "id": "IDPQp8sNR36g"
   },
   "outputs": [],
   "source": [
    "test_dangjin['principal component2']=principalDf['principal component2']"
   ]
  },
  {
   "cell_type": "markdown",
   "metadata": {
    "id": "5V0vPYpLZpUy"
   },
   "source": [
    "### dangjin_floating"
   ]
  },
  {
   "cell_type": "markdown",
   "metadata": {
    "id": "UXfiV0g2SDYV"
   },
   "source": [
    "#### train"
   ]
  },
  {
   "cell_type": "code",
   "execution_count": 77,
   "metadata": {
    "id": "_eYvO5AxvjL4"
   },
   "outputs": [],
   "source": [
    "train_dangjin_floating=train_dangjin_floating.reset_index()"
   ]
  },
  {
   "cell_type": "code",
   "execution_count": 78,
   "metadata": {},
   "outputs": [],
   "source": [
    "train_dangjin_floating_x=train_dangjin_floating[['T3','Wx3','Wy3','H3','C3','dp3','FD3','cos_hour',\n",
    "                           'sin(azimuth ang)','sin_dayofyear']]"
   ]
  },
  {
   "cell_type": "code",
   "execution_count": 79,
   "metadata": {
    "id": "StLMWXL3bBnH"
   },
   "outputs": [],
   "source": [
    "train_dangjin_floating_y=train_dangjin_floating['energy']"
   ]
  },
  {
   "cell_type": "code",
   "execution_count": 80,
   "metadata": {
    "id": "1ERG_90mbBnI",
    "scrolled": true
   },
   "outputs": [],
   "source": [
    "pca = PCA(n_components=2) # 주성분을 몇개로 할지 결정\n",
    "principalComponents = pca.fit_transform(train_dangjin_floating_x)"
   ]
  },
  {
   "cell_type": "code",
   "execution_count": 81,
   "metadata": {
    "colab": {
     "base_uri": "https://localhost:8080/"
    },
    "id": "rzZzXe08bBnJ",
    "outputId": "a6374702-a9a6-4b55-a700-08ff1eefb3b9"
   },
   "outputs": [
    {
     "data": {
      "text/plain": [
       "array([0.54160469, 0.31689256])"
      ]
     },
     "execution_count": 81,
     "metadata": {},
     "output_type": "execute_result"
    }
   ],
   "source": [
    "pca.explained_variance_ratio_"
   ]
  },
  {
   "cell_type": "code",
   "execution_count": 82,
   "metadata": {
    "colab": {
     "base_uri": "https://localhost:8080/"
    },
    "id": "DLtXvsELbBnL",
    "outputId": "dc65e3f0-20e5-49c3-dfef-8c6681bcfe36"
   },
   "outputs": [
    {
     "data": {
      "text/plain": [
       "0.8584972521962219"
      ]
     },
     "execution_count": 82,
     "metadata": {},
     "output_type": "execute_result"
    }
   ],
   "source": [
    "sum(pca.explained_variance_ratio_)"
   ]
  },
  {
   "cell_type": "code",
   "execution_count": 83,
   "metadata": {
    "id": "B-gaxNQcvGxm"
   },
   "outputs": [],
   "source": [
    "principalDf = pd.DataFrame(data=principalComponents, columns = ['principal component1', 'principal component2'])"
   ]
  },
  {
   "cell_type": "code",
   "execution_count": 84,
   "metadata": {
    "id": "7eMQuDvRbBnO"
   },
   "outputs": [],
   "source": [
    "train_dangjin_floating['principal component1']=principalDf['principal component1']"
   ]
  },
  {
   "cell_type": "code",
   "execution_count": 85,
   "metadata": {
    "id": "jHO04oPhbBnO"
   },
   "outputs": [],
   "source": [
    "train_dangjin_floating['principal component2']=principalDf['principal component2']"
   ]
  },
  {
   "cell_type": "markdown",
   "metadata": {
    "id": "zYbS7uctSFrJ"
   },
   "source": [
    "#### test"
   ]
  },
  {
   "cell_type": "code",
   "execution_count": 86,
   "metadata": {},
   "outputs": [],
   "source": [
    "test_dangjin_floating_x=test_dangjin_floating[['T3','Wx3','Wy3','H3','C3','dp3','FD3','cos_hour',\n",
    "                           'sin(azimuth ang)','sin_dayofyear']]"
   ]
  },
  {
   "cell_type": "code",
   "execution_count": 87,
   "metadata": {
    "id": "BwgYVd17SG7j"
   },
   "outputs": [],
   "source": [
    "pca = PCA(n_components=2) # 주성분을 몇개로 할지 결정\n",
    "principalComponents = pca.fit_transform(test_dangjin_floating_x)"
   ]
  },
  {
   "cell_type": "code",
   "execution_count": 88,
   "metadata": {
    "id": "IQwkjxBvSG9f"
   },
   "outputs": [],
   "source": [
    "principalDf = pd.DataFrame(data=principalComponents, columns = ['principal component1', 'principal component2'])"
   ]
  },
  {
   "cell_type": "code",
   "execution_count": 89,
   "metadata": {
    "id": "iAEs0ep8SG_O"
   },
   "outputs": [],
   "source": [
    "test_dangjin_floating['principal component1']=principalDf['principal component1']"
   ]
  },
  {
   "cell_type": "code",
   "execution_count": 90,
   "metadata": {
    "id": "GOCLZnM0SHFc"
   },
   "outputs": [],
   "source": [
    "test_dangjin_floating['principal component2']=principalDf['principal component2']"
   ]
  },
  {
   "cell_type": "markdown",
   "metadata": {
    "id": "hXQskzH-Zper"
   },
   "source": [
    "### dangjin_warehouse"
   ]
  },
  {
   "cell_type": "markdown",
   "metadata": {
    "id": "2oDcFwu-SV7M"
   },
   "source": [
    "#### train"
   ]
  },
  {
   "cell_type": "code",
   "execution_count": 54,
   "metadata": {
    "id": "E0NXtoBKqwC7"
   },
   "outputs": [],
   "source": [
    "train_dangjin_warehouse=train_dangjin_warehouse.reset_index()"
   ]
  },
  {
   "cell_type": "code",
   "execution_count": 55,
   "metadata": {},
   "outputs": [],
   "source": [
    "train_dangjin_warehouse_x=train_dangjin_warehouse[['T3','Wx3','Wy3','H3','C3','dp3','FD3','cos_hour',\n",
    "                           'sin(azimuth ang)','sin_dayofyear']]"
   ]
  },
  {
   "cell_type": "code",
   "execution_count": 56,
   "metadata": {
    "id": "08gm2rFVdFU7"
   },
   "outputs": [],
   "source": [
    "train_dangjin_warehouse_y=train_dangjin_warehouse['energy']"
   ]
  },
  {
   "cell_type": "code",
   "execution_count": 57,
   "metadata": {
    "id": "jZy9EVNddFU9",
    "scrolled": true
   },
   "outputs": [],
   "source": [
    "pca = PCA(n_components=2) # 주성분을 몇개로 할지 결정\n",
    "principalComponents = pca.fit_transform(train_dangjin_warehouse_x)"
   ]
  },
  {
   "cell_type": "code",
   "execution_count": 58,
   "metadata": {
    "colab": {
     "base_uri": "https://localhost:8080/"
    },
    "id": "WrEbexyLdFU_",
    "outputId": "00a34bbe-acf7-4c7a-d7ae-125e8609e527"
   },
   "outputs": [
    {
     "data": {
      "text/plain": [
       "array([0.54186321, 0.31672589])"
      ]
     },
     "execution_count": 58,
     "metadata": {},
     "output_type": "execute_result"
    }
   ],
   "source": [
    "pca.explained_variance_ratio_"
   ]
  },
  {
   "cell_type": "code",
   "execution_count": 59,
   "metadata": {
    "colab": {
     "base_uri": "https://localhost:8080/"
    },
    "id": "ZZvP83b4dFVC",
    "outputId": "831cd703-2fa8-4ab5-8aae-b0825c1c4ec0"
   },
   "outputs": [
    {
     "data": {
      "text/plain": [
       "0.8585890965562766"
      ]
     },
     "execution_count": 59,
     "metadata": {},
     "output_type": "execute_result"
    }
   ],
   "source": [
    "sum(pca.explained_variance_ratio_)"
   ]
  },
  {
   "cell_type": "code",
   "execution_count": 60,
   "metadata": {
    "id": "Q4owOr5OteiV"
   },
   "outputs": [],
   "source": [
    "principalDf = pd.DataFrame(data=principalComponents, columns = ['principal component1', 'principal component2'])"
   ]
  },
  {
   "cell_type": "code",
   "execution_count": 61,
   "metadata": {
    "id": "SU-wG19bdFVE"
   },
   "outputs": [],
   "source": [
    "train_dangjin_warehouse['principal component1']=principalDf['principal component1']"
   ]
  },
  {
   "cell_type": "code",
   "execution_count": 62,
   "metadata": {
    "id": "JFFy_SfuRn--"
   },
   "outputs": [],
   "source": [
    "train_dangjin_warehouse['principal component2']=principalDf['principal component2']"
   ]
  },
  {
   "cell_type": "markdown",
   "metadata": {
    "id": "1QjlCnIuSXkD"
   },
   "source": [
    "#### test"
   ]
  },
  {
   "cell_type": "code",
   "execution_count": 63,
   "metadata": {},
   "outputs": [],
   "source": [
    "test_dangjin_warehouse_x=test_dangjin_warehouse[['T3','Wx3','Wy3','H3','C3','dp3','FD3','cos_hour',\n",
    "                           'sin(azimuth ang)','sin_dayofyear']]"
   ]
  },
  {
   "cell_type": "code",
   "execution_count": 64,
   "metadata": {
    "id": "cMBuoeHOSYV9"
   },
   "outputs": [],
   "source": [
    "pca = PCA(n_components=2) # 주성분을 몇개로 할지 결정\n",
    "principalComponents = pca.fit_transform(test_dangjin_warehouse_x)"
   ]
  },
  {
   "cell_type": "code",
   "execution_count": 65,
   "metadata": {
    "id": "aEYP10zUSYZe"
   },
   "outputs": [],
   "source": [
    "principalDf = pd.DataFrame(data=principalComponents, columns = ['principal component1', 'principal component2'])"
   ]
  },
  {
   "cell_type": "code",
   "execution_count": 66,
   "metadata": {
    "id": "Op_374KcSYb3"
   },
   "outputs": [],
   "source": [
    "test_dangjin_warehouse['principal component1']=principalDf['principal component1']"
   ]
  },
  {
   "cell_type": "code",
   "execution_count": 67,
   "metadata": {
    "id": "GxoxW4nzSYed"
   },
   "outputs": [],
   "source": [
    "test_dangjin_warehouse['principal component2']=principalDf['principal component2']"
   ]
  },
  {
   "cell_type": "markdown",
   "metadata": {
    "id": "IRv_CcRYBlJa"
   },
   "source": [
    "## Sarimax"
   ]
  },
  {
   "cell_type": "markdown",
   "metadata": {
    "id": "WyYUCtvLVWUF"
   },
   "source": [
    "### index에 freq 설정"
   ]
  },
  {
   "cell_type": "code",
   "execution_count": 39,
   "metadata": {
    "id": "VYyp2YqYS4f8"
   },
   "outputs": [],
   "source": [
    "train_ulsan.index=pd.to_datetime(train_ulsan['date'])\n",
    "test_ulsan.index=pd.to_datetime(test_ulsan['date'])"
   ]
  },
  {
   "cell_type": "code",
   "execution_count": 40,
   "metadata": {},
   "outputs": [],
   "source": [
    "train_ulsan.index.freq='H'\n",
    "test_ulsan.index.freq='H'"
   ]
  },
  {
   "cell_type": "markdown",
   "metadata": {},
   "source": [
    "#### DATE index 수정"
   ]
  },
  {
   "cell_type": "markdown",
   "metadata": {},
   "source": [
    "#### dangjin"
   ]
  },
  {
   "cell_type": "code",
   "execution_count": 88,
   "metadata": {},
   "outputs": [],
   "source": [
    "index_goal=train_ulsan['date']"
   ]
  },
  {
   "cell_type": "code",
   "execution_count": 67,
   "metadata": {
    "scrolled": true
   },
   "outputs": [],
   "source": [
    "index_goal=pd.DataFrame(index_goal)"
   ]
  },
  {
   "cell_type": "code",
   "execution_count": 79,
   "metadata": {},
   "outputs": [],
   "source": [
    "dangjin_index_goal = pd.merge(index_goal, train_dangjin,how='left',on='date')"
   ]
  },
  {
   "cell_type": "code",
   "execution_count": 82,
   "metadata": {},
   "outputs": [],
   "source": [
    "dangjin_index_goal.index=pd.to_datetime(dangjin_index_goal['date'])\n",
    "test_dangjin.index=pd.to_datetime(test_dangjin['date'])"
   ]
  },
  {
   "cell_type": "code",
   "execution_count": 83,
   "metadata": {},
   "outputs": [],
   "source": [
    "dangjin_index_goal.index.freq='H'\n",
    "test_dangjin.index.freq='H'"
   ]
  },
  {
   "cell_type": "code",
   "execution_count": 85,
   "metadata": {},
   "outputs": [],
   "source": [
    "dangjin_index_goal1=dangjin_index_goal.drop(['date'],axis=1)"
   ]
  },
  {
   "cell_type": "code",
   "execution_count": 86,
   "metadata": {},
   "outputs": [],
   "source": [
    "dangjin_index_goal2=dangjin_index_goal1.dropna(how='all')"
   ]
  },
  {
   "cell_type": "code",
   "execution_count": null,
   "metadata": {},
   "outputs": [],
   "source": [
    "train_dangjin.index.freq='H'"
   ]
  },
  {
   "cell_type": "code",
   "execution_count": 205,
   "metadata": {},
   "outputs": [],
   "source": [
    "test_dangjin.index.freq='H'"
   ]
  },
  {
   "cell_type": "code",
   "execution_count": 94,
   "metadata": {
    "id": "FAtD6AZlU4tN"
   },
   "outputs": [],
   "source": [
    "train_dangjin_floating.index=pd.to_datetime(train_dangjin_floating['date'])\n",
    "test_dangjin_floating.index=pd.to_datetime(test_dangjin_floating['date'])"
   ]
  },
  {
   "cell_type": "code",
   "execution_count": 206,
   "metadata": {},
   "outputs": [],
   "source": [
    "test_dangjin_floating.index.freq='H'"
   ]
  },
  {
   "cell_type": "code",
   "execution_count": 278,
   "metadata": {
    "id": "wugao-fDU41X"
   },
   "outputs": [],
   "source": [
    "train_dangjin_warehouse.index=pd.to_datetime(train_dangjin_warehouse['date'])\n",
    "test_dangjin_warehouse.index=pd.to_datetime(test_dangjin_warehouse['date'])"
   ]
  },
  {
   "cell_type": "code",
   "execution_count": null,
   "metadata": {},
   "outputs": [],
   "source": [
    "train_dangjin_warehouse.index.freq='H'"
   ]
  },
  {
   "cell_type": "code",
   "execution_count": 207,
   "metadata": {},
   "outputs": [],
   "source": [
    "test_dangjin_warehouse.index.freq='H'"
   ]
  },
  {
   "cell_type": "markdown",
   "metadata": {
    "id": "ZzVguLcK04d7"
   },
   "source": [
    "### ulsan"
   ]
  },
  {
   "cell_type": "code",
   "execution_count": 39,
   "metadata": {},
   "outputs": [],
   "source": [
    "%matplotlib inline"
   ]
  },
  {
   "cell_type": "code",
   "execution_count": 114,
   "metadata": {},
   "outputs": [],
   "source": [
    "import matplotlib.dates as dates"
   ]
  },
  {
   "cell_type": "markdown",
   "metadata": {},
   "source": [
    "result=seasonal_decompose(train_ulsan['energy'])\n",
    "result.plot()"
   ]
  },
  {
   "cell_type": "code",
   "execution_count": null,
   "metadata": {},
   "outputs": [],
   "source": [
    "auto_arima(train_ulsan['energy'],exogenous=train_ulsan[['principal component1','principal component2']],seasonal=True, m=365).summary()"
   ]
  },
  {
   "cell_type": "code",
   "execution_count": 234,
   "metadata": {
    "colab": {
     "base_uri": "https://localhost:8080/",
     "height": 671
    },
    "id": "A5TFyvyNP0eB",
    "outputId": "715a0e89-d313-455e-b874-ea9bf1597a76"
   },
   "outputs": [
    {
     "data": {
      "text/html": [
       "<table class=\"simpletable\">\n",
       "<caption>SARIMAX Results</caption>\n",
       "<tr>\n",
       "  <th>Dep. Variable:</th>               <td>energy</td>             <th>  No. Observations:  </th>    <td>25584</td>   \n",
       "</tr>\n",
       "<tr>\n",
       "  <th>Model:</th>           <td>SARIMAX(5, 1, 0)x(2, 0, 0, 12)</td> <th>  Log Likelihood     </th> <td>-122535.379</td>\n",
       "</tr>\n",
       "<tr>\n",
       "  <th>Date:</th>                   <td>Wed, 02 Jun 2021</td>        <th>  AIC                </th> <td>245090.758</td> \n",
       "</tr>\n",
       "<tr>\n",
       "  <th>Time:</th>                       <td>11:26:02</td>            <th>  BIC                </th> <td>245172.255</td> \n",
       "</tr>\n",
       "<tr>\n",
       "  <th>Sample:</th>                    <td>03-03-2018</td>           <th>  HQIC               </th> <td>245117.107</td> \n",
       "</tr>\n",
       "<tr>\n",
       "  <th></th>                          <td>- 01-31-2021</td>          <th>                     </th>      <td> </td>     \n",
       "</tr>\n",
       "<tr>\n",
       "  <th>Covariance Type:</th>               <td>opg</td>              <th>                     </th>      <td> </td>     \n",
       "</tr>\n",
       "</table>\n",
       "<table class=\"simpletable\">\n",
       "<tr>\n",
       "            <td></td>              <th>coef</th>     <th>std err</th>      <th>z</th>      <th>P>|z|</th>  <th>[0.025</th>    <th>0.975]</th>  \n",
       "</tr>\n",
       "<tr>\n",
       "  <th>principal component1</th> <td>    0.5323</td> <td>    0.063</td> <td>    8.393</td> <td> 0.000</td> <td>    0.408</td> <td>    0.657</td>\n",
       "</tr>\n",
       "<tr>\n",
       "  <th>principal component2</th> <td>   -0.1037</td> <td>    0.041</td> <td>   -2.524</td> <td> 0.012</td> <td>   -0.184</td> <td>   -0.023</td>\n",
       "</tr>\n",
       "<tr>\n",
       "  <th>ar.L1</th>                <td>    0.2930</td> <td>    0.004</td> <td>   83.346</td> <td> 0.000</td> <td>    0.286</td> <td>    0.300</td>\n",
       "</tr>\n",
       "<tr>\n",
       "  <th>ar.L2</th>                <td>    0.0586</td> <td>    0.004</td> <td>   15.131</td> <td> 0.000</td> <td>    0.051</td> <td>    0.066</td>\n",
       "</tr>\n",
       "<tr>\n",
       "  <th>ar.L3</th>                <td>   -0.0304</td> <td>    0.004</td> <td>   -7.301</td> <td> 0.000</td> <td>   -0.039</td> <td>   -0.022</td>\n",
       "</tr>\n",
       "<tr>\n",
       "  <th>ar.L4</th>                <td>   -0.0491</td> <td>    0.005</td> <td>  -10.274</td> <td> 0.000</td> <td>   -0.059</td> <td>   -0.040</td>\n",
       "</tr>\n",
       "<tr>\n",
       "  <th>ar.L5</th>                <td>   -0.1455</td> <td>    0.005</td> <td>  -29.221</td> <td> 0.000</td> <td>   -0.155</td> <td>   -0.136</td>\n",
       "</tr>\n",
       "<tr>\n",
       "  <th>ar.S.L12</th>             <td>   -0.0644</td> <td>    0.019</td> <td>   -3.358</td> <td> 0.001</td> <td>   -0.102</td> <td>   -0.027</td>\n",
       "</tr>\n",
       "<tr>\n",
       "  <th>ar.S.L24</th>             <td>    0.4401</td> <td>    0.004</td> <td>  121.574</td> <td> 0.000</td> <td>    0.433</td> <td>    0.447</td>\n",
       "</tr>\n",
       "<tr>\n",
       "  <th>sigma2</th>               <td>  846.7431</td> <td>    3.726</td> <td>  227.242</td> <td> 0.000</td> <td>  839.440</td> <td>  854.046</td>\n",
       "</tr>\n",
       "</table>\n",
       "<table class=\"simpletable\">\n",
       "<tr>\n",
       "  <th>Ljung-Box (L1) (Q):</th>     <td>9.10</td> <th>  Jarque-Bera (JB):  </th> <td>66457.25</td>\n",
       "</tr>\n",
       "<tr>\n",
       "  <th>Prob(Q):</th>                <td>0.00</td> <th>  Prob(JB):          </th>   <td>0.00</td>  \n",
       "</tr>\n",
       "<tr>\n",
       "  <th>Heteroskedasticity (H):</th> <td>1.11</td> <th>  Skew:              </th>   <td>0.06</td>  \n",
       "</tr>\n",
       "<tr>\n",
       "  <th>Prob(H) (two-sided):</th>    <td>0.00</td> <th>  Kurtosis:          </th>   <td>10.90</td> \n",
       "</tr>\n",
       "</table><br/><br/>Warnings:<br/>[1] Covariance matrix calculated using the outer product of gradients (complex-step)."
      ],
      "text/plain": [
       "<class 'statsmodels.iolib.summary.Summary'>\n",
       "\"\"\"\n",
       "                                     SARIMAX Results                                      \n",
       "==========================================================================================\n",
       "Dep. Variable:                             energy   No. Observations:                25584\n",
       "Model:             SARIMAX(5, 1, 0)x(2, 0, 0, 12)   Log Likelihood             -122535.379\n",
       "Date:                            Wed, 02 Jun 2021   AIC                         245090.758\n",
       "Time:                                    11:26:02   BIC                         245172.255\n",
       "Sample:                                03-03-2018   HQIC                        245117.107\n",
       "                                     - 01-31-2021                                         \n",
       "Covariance Type:                              opg                                         \n",
       "========================================================================================\n",
       "                           coef    std err          z      P>|z|      [0.025      0.975]\n",
       "----------------------------------------------------------------------------------------\n",
       "principal component1     0.5323      0.063      8.393      0.000       0.408       0.657\n",
       "principal component2    -0.1037      0.041     -2.524      0.012      -0.184      -0.023\n",
       "ar.L1                    0.2930      0.004     83.346      0.000       0.286       0.300\n",
       "ar.L2                    0.0586      0.004     15.131      0.000       0.051       0.066\n",
       "ar.L3                   -0.0304      0.004     -7.301      0.000      -0.039      -0.022\n",
       "ar.L4                   -0.0491      0.005    -10.274      0.000      -0.059      -0.040\n",
       "ar.L5                   -0.1455      0.005    -29.221      0.000      -0.155      -0.136\n",
       "ar.S.L12                -0.0644      0.019     -3.358      0.001      -0.102      -0.027\n",
       "ar.S.L24                 0.4401      0.004    121.574      0.000       0.433       0.447\n",
       "sigma2                 846.7431      3.726    227.242      0.000     839.440     854.046\n",
       "===================================================================================\n",
       "Ljung-Box (L1) (Q):                   9.10   Jarque-Bera (JB):             66457.25\n",
       "Prob(Q):                              0.00   Prob(JB):                         0.00\n",
       "Heteroskedasticity (H):               1.11   Skew:                             0.06\n",
       "Prob(H) (two-sided):                  0.00   Kurtosis:                        10.90\n",
       "===================================================================================\n",
       "\n",
       "Warnings:\n",
       "[1] Covariance matrix calculated using the outer product of gradients (complex-step).\n",
       "\"\"\""
      ]
     },
     "execution_count": 234,
     "metadata": {},
     "output_type": "execute_result"
    }
   ],
   "source": [
    "model=SARIMAX(train_ulsan['energy'],exog=train_ulsan[['principal component1','principal component2']],order=(5,1,0),\n",
    "                       seasonal_order=(2, 0, 0, 365),enforce_invertibiblity=False)\n",
    "\n",
    "results=model.fit()\n",
    "\n",
    "results.summary()"
   ]
  },
  {
   "cell_type": "code",
   "execution_count": 235,
   "metadata": {
    "colab": {
     "base_uri": "https://localhost:8080/",
     "height": 501
    },
    "id": "k86g3hmlP5op",
    "outputId": "697c5f3f-f3b5-4b9c-9044-24165542ca22"
   },
   "outputs": [],
   "source": [
    "fcast1=results.predict(0,len(test_ulsan),exog=test_ulsan[['principal component1','principal component2']]).rename(\"FINAL SARIMAX FORECAST\")"
   ]
  },
  {
   "cell_type": "markdown",
   "metadata": {
    "id": "Um8MCoTvmoGT"
   },
   "source": [
    "### dangjin"
   ]
  },
  {
   "cell_type": "code",
   "execution_count": 192,
   "metadata": {},
   "outputs": [
    {
     "data": {
      "text/html": [
       "<table class=\"simpletable\">\n",
       "<caption>SARIMAX Results</caption>\n",
       "<tr>\n",
       "  <th>Dep. Variable:</th>                  <td>y</td>               <th>  No. Observations:  </th>    <td>25560</td>   \n",
       "</tr>\n",
       "<tr>\n",
       "  <th>Model:</th>           <td>SARIMAX(1, 1, 0)x(2, 0, 0, 12)</td> <th>  Log Likelihood     </th> <td>-142989.281</td>\n",
       "</tr>\n",
       "<tr>\n",
       "  <th>Date:</th>                   <td>Wed, 02 Jun 2021</td>        <th>  AIC                </th> <td>285990.562</td> \n",
       "</tr>\n",
       "<tr>\n",
       "  <th>Time:</th>                       <td>02:54:20</td>            <th>  BIC                </th> <td>286039.455</td> \n",
       "</tr>\n",
       "<tr>\n",
       "  <th>Sample:</th>                         <td>0</td>               <th>  HQIC               </th> <td>286006.370</td> \n",
       "</tr>\n",
       "<tr>\n",
       "  <th></th>                            <td> - 25560</td>            <th>                     </th>      <td> </td>     \n",
       "</tr>\n",
       "<tr>\n",
       "  <th>Covariance Type:</th>               <td>opg</td>              <th>                     </th>      <td> </td>     \n",
       "</tr>\n",
       "</table>\n",
       "<table class=\"simpletable\">\n",
       "<tr>\n",
       "            <td></td>              <th>coef</th>     <th>std err</th>      <th>z</th>      <th>P>|z|</th>  <th>[0.025</th>    <th>0.975]</th>  \n",
       "</tr>\n",
       "<tr>\n",
       "  <th>principal component1</th> <td>    0.2270</td> <td>    0.075</td> <td>    3.018</td> <td> 0.003</td> <td>    0.080</td> <td>    0.374</td>\n",
       "</tr>\n",
       "<tr>\n",
       "  <th>principal component2</th> <td>   -1.2957</td> <td>    0.114</td> <td>  -11.362</td> <td> 0.000</td> <td>   -1.519</td> <td>   -1.072</td>\n",
       "</tr>\n",
       "<tr>\n",
       "  <th>ar.L1</th>                <td>    0.3411</td> <td>    0.003</td> <td>  100.344</td> <td> 0.000</td> <td>    0.334</td> <td>    0.348</td>\n",
       "</tr>\n",
       "<tr>\n",
       "  <th>ar.S.L12</th>             <td>    0.0107</td> <td>    0.045</td> <td>    0.236</td> <td> 0.813</td> <td>   -0.078</td> <td>    0.100</td>\n",
       "</tr>\n",
       "<tr>\n",
       "  <th>ar.S.L24</th>             <td>    0.4658</td> <td>    0.003</td> <td>  138.924</td> <td> 0.000</td> <td>    0.459</td> <td>    0.472</td>\n",
       "</tr>\n",
       "<tr>\n",
       "  <th>sigma2</th>               <td> 4233.6383</td> <td>   17.818</td> <td>  237.600</td> <td> 0.000</td> <td> 4198.715</td> <td> 4268.562</td>\n",
       "</tr>\n",
       "</table>\n",
       "<table class=\"simpletable\">\n",
       "<tr>\n",
       "  <th>Ljung-Box (L1) (Q):</th>     <td>0.03</td> <th>  Jarque-Bera (JB):  </th> <td>66447.27</td>\n",
       "</tr>\n",
       "<tr>\n",
       "  <th>Prob(Q):</th>                <td>0.87</td> <th>  Prob(JB):          </th>   <td>0.00</td>  \n",
       "</tr>\n",
       "<tr>\n",
       "  <th>Heteroskedasticity (H):</th> <td>0.99</td> <th>  Skew:              </th>   <td>-0.37</td> \n",
       "</tr>\n",
       "<tr>\n",
       "  <th>Prob(H) (two-sided):</th>    <td>0.50</td> <th>  Kurtosis:          </th>   <td>10.87</td> \n",
       "</tr>\n",
       "</table><br/><br/>Warnings:<br/>[1] Covariance matrix calculated using the outer product of gradients (complex-step)."
      ],
      "text/plain": [
       "<class 'statsmodels.iolib.summary.Summary'>\n",
       "\"\"\"\n",
       "                                     SARIMAX Results                                      \n",
       "==========================================================================================\n",
       "Dep. Variable:                                  y   No. Observations:                25560\n",
       "Model:             SARIMAX(1, 1, 0)x(2, 0, 0, 12)   Log Likelihood             -142989.281\n",
       "Date:                            Wed, 02 Jun 2021   AIC                         285990.562\n",
       "Time:                                    02:54:20   BIC                         286039.455\n",
       "Sample:                                         0   HQIC                        286006.370\n",
       "                                          - 25560                                         \n",
       "Covariance Type:                              opg                                         \n",
       "========================================================================================\n",
       "                           coef    std err          z      P>|z|      [0.025      0.975]\n",
       "----------------------------------------------------------------------------------------\n",
       "principal component1     0.2270      0.075      3.018      0.003       0.080       0.374\n",
       "principal component2    -1.2957      0.114    -11.362      0.000      -1.519      -1.072\n",
       "ar.L1                    0.3411      0.003    100.344      0.000       0.334       0.348\n",
       "ar.S.L12                 0.0107      0.045      0.236      0.813      -0.078       0.100\n",
       "ar.S.L24                 0.4658      0.003    138.924      0.000       0.459       0.472\n",
       "sigma2                4233.6383     17.818    237.600      0.000    4198.715    4268.562\n",
       "===================================================================================\n",
       "Ljung-Box (L1) (Q):                   0.03   Jarque-Bera (JB):             66447.27\n",
       "Prob(Q):                              0.87   Prob(JB):                         0.00\n",
       "Heteroskedasticity (H):               0.99   Skew:                            -0.37\n",
       "Prob(H) (two-sided):                  0.50   Kurtosis:                        10.87\n",
       "===================================================================================\n",
       "\n",
       "Warnings:\n",
       "[1] Covariance matrix calculated using the outer product of gradients (complex-step).\n",
       "\"\"\""
      ]
     },
     "execution_count": 192,
     "metadata": {},
     "output_type": "execute_result"
    }
   ],
   "source": [
    "auto_arima(train_dangjin['energy'],exogenous=train_dangjin[['principal component1','principal component2']],seasonal=True, m=12).summary()"
   ]
  },
  {
   "cell_type": "code",
   "execution_count": 193,
   "metadata": {
    "colab": {
     "base_uri": "https://localhost:8080/",
     "height": 581
    },
    "id": "nvWcjaT6mrUJ",
    "outputId": "2f5dd0a5-015c-46aa-9f10-9aa28f4bb23b"
   },
   "outputs": [
    {
     "name": "stderr",
     "output_type": "stream",
     "text": [
      "/home/nayounlee2/anaconda3/lib/python3.6/site-packages/statsmodels/tsa/base/tsa_model.py:583: ValueWarning: A date index has been provided, but it has no associated frequency information and so will be ignored when e.g. forecasting.\n",
      "  ' ignored when e.g. forecasting.', ValueWarning)\n",
      "/home/nayounlee2/anaconda3/lib/python3.6/site-packages/statsmodels/tsa/base/tsa_model.py:583: ValueWarning: A date index has been provided, but it has no associated frequency information and so will be ignored when e.g. forecasting.\n",
      "  ' ignored when e.g. forecasting.', ValueWarning)\n"
     ]
    },
    {
     "data": {
      "text/html": [
       "<table class=\"simpletable\">\n",
       "<caption>SARIMAX Results</caption>\n",
       "<tr>\n",
       "  <th>Dep. Variable:</th>               <td>energy</td>             <th>  No. Observations:  </th>    <td>25560</td>   \n",
       "</tr>\n",
       "<tr>\n",
       "  <th>Model:</th>           <td>SARIMAX(1, 1, 0)x(2, 0, 0, 12)</td> <th>  Log Likelihood     </th> <td>-142989.281</td>\n",
       "</tr>\n",
       "<tr>\n",
       "  <th>Date:</th>                   <td>Wed, 02 Jun 2021</td>        <th>  AIC                </th> <td>285990.562</td> \n",
       "</tr>\n",
       "<tr>\n",
       "  <th>Time:</th>                       <td>03:03:16</td>            <th>  BIC                </th> <td>286039.455</td> \n",
       "</tr>\n",
       "<tr>\n",
       "  <th>Sample:</th>                         <td>0</td>               <th>  HQIC               </th> <td>286006.370</td> \n",
       "</tr>\n",
       "<tr>\n",
       "  <th></th>                            <td> - 25560</td>            <th>                     </th>      <td> </td>     \n",
       "</tr>\n",
       "<tr>\n",
       "  <th>Covariance Type:</th>               <td>opg</td>              <th>                     </th>      <td> </td>     \n",
       "</tr>\n",
       "</table>\n",
       "<table class=\"simpletable\">\n",
       "<tr>\n",
       "            <td></td>              <th>coef</th>     <th>std err</th>      <th>z</th>      <th>P>|z|</th>  <th>[0.025</th>    <th>0.975]</th>  \n",
       "</tr>\n",
       "<tr>\n",
       "  <th>principal component1</th> <td>    0.2270</td> <td>    0.075</td> <td>    3.018</td> <td> 0.003</td> <td>    0.080</td> <td>    0.374</td>\n",
       "</tr>\n",
       "<tr>\n",
       "  <th>principal component2</th> <td>   -1.2957</td> <td>    0.114</td> <td>  -11.362</td> <td> 0.000</td> <td>   -1.519</td> <td>   -1.072</td>\n",
       "</tr>\n",
       "<tr>\n",
       "  <th>ar.L1</th>                <td>    0.3411</td> <td>    0.003</td> <td>  100.344</td> <td> 0.000</td> <td>    0.334</td> <td>    0.348</td>\n",
       "</tr>\n",
       "<tr>\n",
       "  <th>ar.S.L12</th>             <td>    0.0107</td> <td>    0.045</td> <td>    0.236</td> <td> 0.813</td> <td>   -0.078</td> <td>    0.100</td>\n",
       "</tr>\n",
       "<tr>\n",
       "  <th>ar.S.L24</th>             <td>    0.4658</td> <td>    0.003</td> <td>  138.924</td> <td> 0.000</td> <td>    0.459</td> <td>    0.472</td>\n",
       "</tr>\n",
       "<tr>\n",
       "  <th>sigma2</th>               <td> 4233.6383</td> <td>   17.818</td> <td>  237.600</td> <td> 0.000</td> <td> 4198.715</td> <td> 4268.562</td>\n",
       "</tr>\n",
       "</table>\n",
       "<table class=\"simpletable\">\n",
       "<tr>\n",
       "  <th>Ljung-Box (L1) (Q):</th>     <td>0.03</td> <th>  Jarque-Bera (JB):  </th> <td>66447.27</td>\n",
       "</tr>\n",
       "<tr>\n",
       "  <th>Prob(Q):</th>                <td>0.87</td> <th>  Prob(JB):          </th>   <td>0.00</td>  \n",
       "</tr>\n",
       "<tr>\n",
       "  <th>Heteroskedasticity (H):</th> <td>0.99</td> <th>  Skew:              </th>   <td>-0.37</td> \n",
       "</tr>\n",
       "<tr>\n",
       "  <th>Prob(H) (two-sided):</th>    <td>0.50</td> <th>  Kurtosis:          </th>   <td>10.87</td> \n",
       "</tr>\n",
       "</table><br/><br/>Warnings:<br/>[1] Covariance matrix calculated using the outer product of gradients (complex-step)."
      ],
      "text/plain": [
       "<class 'statsmodels.iolib.summary.Summary'>\n",
       "\"\"\"\n",
       "                                     SARIMAX Results                                      \n",
       "==========================================================================================\n",
       "Dep. Variable:                             energy   No. Observations:                25560\n",
       "Model:             SARIMAX(1, 1, 0)x(2, 0, 0, 12)   Log Likelihood             -142989.281\n",
       "Date:                            Wed, 02 Jun 2021   AIC                         285990.562\n",
       "Time:                                    03:03:16   BIC                         286039.455\n",
       "Sample:                                         0   HQIC                        286006.370\n",
       "                                          - 25560                                         \n",
       "Covariance Type:                              opg                                         \n",
       "========================================================================================\n",
       "                           coef    std err          z      P>|z|      [0.025      0.975]\n",
       "----------------------------------------------------------------------------------------\n",
       "principal component1     0.2270      0.075      3.018      0.003       0.080       0.374\n",
       "principal component2    -1.2957      0.114    -11.362      0.000      -1.519      -1.072\n",
       "ar.L1                    0.3411      0.003    100.344      0.000       0.334       0.348\n",
       "ar.S.L12                 0.0107      0.045      0.236      0.813      -0.078       0.100\n",
       "ar.S.L24                 0.4658      0.003    138.924      0.000       0.459       0.472\n",
       "sigma2                4233.6383     17.818    237.600      0.000    4198.715    4268.562\n",
       "===================================================================================\n",
       "Ljung-Box (L1) (Q):                   0.03   Jarque-Bera (JB):             66447.27\n",
       "Prob(Q):                              0.87   Prob(JB):                         0.00\n",
       "Heteroskedasticity (H):               0.99   Skew:                            -0.37\n",
       "Prob(H) (two-sided):                  0.50   Kurtosis:                        10.87\n",
       "===================================================================================\n",
       "\n",
       "Warnings:\n",
       "[1] Covariance matrix calculated using the outer product of gradients (complex-step).\n",
       "\"\"\""
      ]
     },
     "execution_count": 193,
     "metadata": {},
     "output_type": "execute_result"
    }
   ],
   "source": [
    "model=SARIMAX(train_dangjin['energy'],exog=train_dangjin[['principal component1','principal component2']],order=(1,1,0),\n",
    "                       seasonal_order=(2, 0, 0, 12),enforce_invertibiblity=False)\n",
    "\n",
    "results=model.fit()\n",
    "\n",
    "results.summary()"
   ]
  },
  {
   "cell_type": "code",
   "execution_count": 194,
   "metadata": {
    "id": "evEBrFpGmrWg"
   },
   "outputs": [],
   "source": [
    "fcast2=results.predict(0,len(test_dangjin),exog=test_dangjin[['principal component1','principal component2']]).rename(\"FINAL SARIMAX FORECAST\")"
   ]
  },
  {
   "cell_type": "markdown",
   "metadata": {
    "id": "vuRmGKDGmof6"
   },
   "source": [
    "### dangjin_warehouse\n"
   ]
  },
  {
   "cell_type": "code",
   "execution_count": 195,
   "metadata": {},
   "outputs": [
    {
     "data": {
      "text/html": [
       "<table class=\"simpletable\">\n",
       "<caption>SARIMAX Results</caption>\n",
       "<tr>\n",
       "  <th>Dep. Variable:</th>                  <td>y</td>                <th>  No. Observations:  </th>    <td>25512</td>   \n",
       "</tr>\n",
       "<tr>\n",
       "  <th>Model:</th>           <td>SARIMAX(0, 1, 4)x(2, 0, [], 12)</td> <th>  Log Likelihood     </th> <td>-132059.575</td>\n",
       "</tr>\n",
       "<tr>\n",
       "  <th>Date:</th>                   <td>Wed, 02 Jun 2021</td>         <th>  AIC                </th> <td>264137.149</td> \n",
       "</tr>\n",
       "<tr>\n",
       "  <th>Time:</th>                       <td>05:31:53</td>             <th>  BIC                </th> <td>264210.471</td> \n",
       "</tr>\n",
       "<tr>\n",
       "  <th>Sample:</th>                         <td>0</td>                <th>  HQIC               </th> <td>264160.858</td> \n",
       "</tr>\n",
       "<tr>\n",
       "  <th></th>                            <td> - 25512</td>             <th>                     </th>      <td> </td>     \n",
       "</tr>\n",
       "<tr>\n",
       "  <th>Covariance Type:</th>               <td>opg</td>               <th>                     </th>      <td> </td>     \n",
       "</tr>\n",
       "</table>\n",
       "<table class=\"simpletable\">\n",
       "<tr>\n",
       "            <td></td>              <th>coef</th>     <th>std err</th>      <th>z</th>      <th>P>|z|</th>  <th>[0.025</th>    <th>0.975]</th>  \n",
       "</tr>\n",
       "<tr>\n",
       "  <th>principal component1</th> <td>    0.1628</td> <td>    0.050</td> <td>    3.235</td> <td> 0.001</td> <td>    0.064</td> <td>    0.261</td>\n",
       "</tr>\n",
       "<tr>\n",
       "  <th>principal component2</th> <td>   -0.9237</td> <td>    0.077</td> <td>  -11.946</td> <td> 0.000</td> <td>   -1.075</td> <td>   -0.772</td>\n",
       "</tr>\n",
       "<tr>\n",
       "  <th>ma.L1</th>                <td>    0.3464</td> <td>    0.003</td> <td>  101.876</td> <td> 0.000</td> <td>    0.340</td> <td>    0.353</td>\n",
       "</tr>\n",
       "<tr>\n",
       "  <th>ma.L2</th>                <td>    0.1466</td> <td>    0.004</td> <td>   34.906</td> <td> 0.000</td> <td>    0.138</td> <td>    0.155</td>\n",
       "</tr>\n",
       "<tr>\n",
       "  <th>ma.L3</th>                <td>    0.0303</td> <td>    0.005</td> <td>    6.250</td> <td> 0.000</td> <td>    0.021</td> <td>    0.040</td>\n",
       "</tr>\n",
       "<tr>\n",
       "  <th>ma.L4</th>                <td>   -0.0188</td> <td>    0.005</td> <td>   -3.716</td> <td> 0.000</td> <td>   -0.029</td> <td>   -0.009</td>\n",
       "</tr>\n",
       "<tr>\n",
       "  <th>ar.S.L12</th>             <td>    0.0044</td> <td>    0.047</td> <td>    0.093</td> <td> 0.926</td> <td>   -0.088</td> <td>    0.097</td>\n",
       "</tr>\n",
       "<tr>\n",
       "  <th>ar.S.L24</th>             <td>    0.4460</td> <td>    0.003</td> <td>  131.766</td> <td> 0.000</td> <td>    0.439</td> <td>    0.453</td>\n",
       "</tr>\n",
       "<tr>\n",
       "  <th>sigma2</th>               <td> 1835.4179</td> <td>    7.654</td> <td>  239.803</td> <td> 0.000</td> <td> 1820.417</td> <td> 1850.419</td>\n",
       "</tr>\n",
       "</table>\n",
       "<table class=\"simpletable\">\n",
       "<tr>\n",
       "  <th>Ljung-Box (L1) (Q):</th>     <td>0.03</td> <th>  Jarque-Bera (JB):  </th> <td>73791.10</td>\n",
       "</tr>\n",
       "<tr>\n",
       "  <th>Prob(Q):</th>                <td>0.86</td> <th>  Prob(JB):          </th>   <td>0.00</td>  \n",
       "</tr>\n",
       "<tr>\n",
       "  <th>Heteroskedasticity (H):</th> <td>1.22</td> <th>  Skew:              </th>   <td>-0.38</td> \n",
       "</tr>\n",
       "<tr>\n",
       "  <th>Prob(H) (two-sided):</th>    <td>0.00</td> <th>  Kurtosis:          </th>   <td>11.30</td> \n",
       "</tr>\n",
       "</table><br/><br/>Warnings:<br/>[1] Covariance matrix calculated using the outer product of gradients (complex-step)."
      ],
      "text/plain": [
       "<class 'statsmodels.iolib.summary.Summary'>\n",
       "\"\"\"\n",
       "                                      SARIMAX Results                                      \n",
       "===========================================================================================\n",
       "Dep. Variable:                                   y   No. Observations:                25512\n",
       "Model:             SARIMAX(0, 1, 4)x(2, 0, [], 12)   Log Likelihood             -132059.575\n",
       "Date:                             Wed, 02 Jun 2021   AIC                         264137.149\n",
       "Time:                                     05:31:53   BIC                         264210.471\n",
       "Sample:                                          0   HQIC                        264160.858\n",
       "                                           - 25512                                         \n",
       "Covariance Type:                               opg                                         \n",
       "========================================================================================\n",
       "                           coef    std err          z      P>|z|      [0.025      0.975]\n",
       "----------------------------------------------------------------------------------------\n",
       "principal component1     0.1628      0.050      3.235      0.001       0.064       0.261\n",
       "principal component2    -0.9237      0.077    -11.946      0.000      -1.075      -0.772\n",
       "ma.L1                    0.3464      0.003    101.876      0.000       0.340       0.353\n",
       "ma.L2                    0.1466      0.004     34.906      0.000       0.138       0.155\n",
       "ma.L3                    0.0303      0.005      6.250      0.000       0.021       0.040\n",
       "ma.L4                   -0.0188      0.005     -3.716      0.000      -0.029      -0.009\n",
       "ar.S.L12                 0.0044      0.047      0.093      0.926      -0.088       0.097\n",
       "ar.S.L24                 0.4460      0.003    131.766      0.000       0.439       0.453\n",
       "sigma2                1835.4179      7.654    239.803      0.000    1820.417    1850.419\n",
       "===================================================================================\n",
       "Ljung-Box (L1) (Q):                   0.03   Jarque-Bera (JB):             73791.10\n",
       "Prob(Q):                              0.86   Prob(JB):                         0.00\n",
       "Heteroskedasticity (H):               1.22   Skew:                            -0.38\n",
       "Prob(H) (two-sided):                  0.00   Kurtosis:                        11.30\n",
       "===================================================================================\n",
       "\n",
       "Warnings:\n",
       "[1] Covariance matrix calculated using the outer product of gradients (complex-step).\n",
       "\"\"\""
      ]
     },
     "execution_count": 195,
     "metadata": {},
     "output_type": "execute_result"
    }
   ],
   "source": [
    "auto_arima(train_dangjin_warehouse['energy'],exogenous=train_dangjin_warehouse[['principal component1','principal component2']],seasonal=True, m=12).summary()"
   ]
  },
  {
   "cell_type": "code",
   "execution_count": 279,
   "metadata": {
    "colab": {
     "base_uri": "https://localhost:8080/",
     "height": 671
    },
    "id": "MINCOs82m98b",
    "outputId": "d7acccc9-a9ef-446d-f117-1bb7f9921df7"
   },
   "outputs": [
    {
     "name": "stderr",
     "output_type": "stream",
     "text": [
      "/home/nayounlee2/anaconda3/lib/python3.6/site-packages/statsmodels/tsa/base/tsa_model.py:583: ValueWarning: A date index has been provided, but it has no associated frequency information and so will be ignored when e.g. forecasting.\n",
      "  ' ignored when e.g. forecasting.', ValueWarning)\n",
      "/home/nayounlee2/anaconda3/lib/python3.6/site-packages/statsmodels/tsa/base/tsa_model.py:583: ValueWarning: A date index has been provided, but it has no associated frequency information and so will be ignored when e.g. forecasting.\n",
      "  ' ignored when e.g. forecasting.', ValueWarning)\n"
     ]
    },
    {
     "data": {
      "text/html": [
       "<table class=\"simpletable\">\n",
       "<caption>SARIMAX Results</caption>\n",
       "<tr>\n",
       "  <th>Dep. Variable:</th>               <td>energy</td>              <th>  No. Observations:  </th>    <td>25512</td>   \n",
       "</tr>\n",
       "<tr>\n",
       "  <th>Model:</th>           <td>SARIMAX(0, 1, 4)x(2, 0, [], 12)</td> <th>  Log Likelihood     </th> <td>-132059.575</td>\n",
       "</tr>\n",
       "<tr>\n",
       "  <th>Date:</th>                   <td>Wed, 02 Jun 2021</td>         <th>  AIC                </th> <td>264137.149</td> \n",
       "</tr>\n",
       "<tr>\n",
       "  <th>Time:</th>                       <td>14:35:48</td>             <th>  BIC                </th> <td>264210.471</td> \n",
       "</tr>\n",
       "<tr>\n",
       "  <th>Sample:</th>                         <td>0</td>                <th>  HQIC               </th> <td>264160.858</td> \n",
       "</tr>\n",
       "<tr>\n",
       "  <th></th>                            <td> - 25512</td>             <th>                     </th>      <td> </td>     \n",
       "</tr>\n",
       "<tr>\n",
       "  <th>Covariance Type:</th>               <td>opg</td>               <th>                     </th>      <td> </td>     \n",
       "</tr>\n",
       "</table>\n",
       "<table class=\"simpletable\">\n",
       "<tr>\n",
       "            <td></td>              <th>coef</th>     <th>std err</th>      <th>z</th>      <th>P>|z|</th>  <th>[0.025</th>    <th>0.975]</th>  \n",
       "</tr>\n",
       "<tr>\n",
       "  <th>principal component1</th> <td>    0.1628</td> <td>    0.050</td> <td>    3.235</td> <td> 0.001</td> <td>    0.064</td> <td>    0.261</td>\n",
       "</tr>\n",
       "<tr>\n",
       "  <th>principal component2</th> <td>   -0.9237</td> <td>    0.077</td> <td>  -11.946</td> <td> 0.000</td> <td>   -1.075</td> <td>   -0.772</td>\n",
       "</tr>\n",
       "<tr>\n",
       "  <th>ma.L1</th>                <td>    0.3464</td> <td>    0.003</td> <td>  101.876</td> <td> 0.000</td> <td>    0.340</td> <td>    0.353</td>\n",
       "</tr>\n",
       "<tr>\n",
       "  <th>ma.L2</th>                <td>    0.1466</td> <td>    0.004</td> <td>   34.906</td> <td> 0.000</td> <td>    0.138</td> <td>    0.155</td>\n",
       "</tr>\n",
       "<tr>\n",
       "  <th>ma.L3</th>                <td>    0.0303</td> <td>    0.005</td> <td>    6.250</td> <td> 0.000</td> <td>    0.021</td> <td>    0.040</td>\n",
       "</tr>\n",
       "<tr>\n",
       "  <th>ma.L4</th>                <td>   -0.0188</td> <td>    0.005</td> <td>   -3.716</td> <td> 0.000</td> <td>   -0.029</td> <td>   -0.009</td>\n",
       "</tr>\n",
       "<tr>\n",
       "  <th>ar.S.L12</th>             <td>    0.0044</td> <td>    0.047</td> <td>    0.093</td> <td> 0.926</td> <td>   -0.088</td> <td>    0.097</td>\n",
       "</tr>\n",
       "<tr>\n",
       "  <th>ar.S.L24</th>             <td>    0.4460</td> <td>    0.003</td> <td>  131.766</td> <td> 0.000</td> <td>    0.439</td> <td>    0.453</td>\n",
       "</tr>\n",
       "<tr>\n",
       "  <th>sigma2</th>               <td> 1835.4179</td> <td>    7.654</td> <td>  239.803</td> <td> 0.000</td> <td> 1820.417</td> <td> 1850.419</td>\n",
       "</tr>\n",
       "</table>\n",
       "<table class=\"simpletable\">\n",
       "<tr>\n",
       "  <th>Ljung-Box (L1) (Q):</th>     <td>0.03</td> <th>  Jarque-Bera (JB):  </th> <td>73791.10</td>\n",
       "</tr>\n",
       "<tr>\n",
       "  <th>Prob(Q):</th>                <td>0.86</td> <th>  Prob(JB):          </th>   <td>0.00</td>  \n",
       "</tr>\n",
       "<tr>\n",
       "  <th>Heteroskedasticity (H):</th> <td>1.22</td> <th>  Skew:              </th>   <td>-0.38</td> \n",
       "</tr>\n",
       "<tr>\n",
       "  <th>Prob(H) (two-sided):</th>    <td>0.00</td> <th>  Kurtosis:          </th>   <td>11.30</td> \n",
       "</tr>\n",
       "</table><br/><br/>Warnings:<br/>[1] Covariance matrix calculated using the outer product of gradients (complex-step)."
      ],
      "text/plain": [
       "<class 'statsmodels.iolib.summary.Summary'>\n",
       "\"\"\"\n",
       "                                      SARIMAX Results                                      \n",
       "===========================================================================================\n",
       "Dep. Variable:                              energy   No. Observations:                25512\n",
       "Model:             SARIMAX(0, 1, 4)x(2, 0, [], 12)   Log Likelihood             -132059.575\n",
       "Date:                             Wed, 02 Jun 2021   AIC                         264137.149\n",
       "Time:                                     14:35:48   BIC                         264210.471\n",
       "Sample:                                          0   HQIC                        264160.858\n",
       "                                           - 25512                                         \n",
       "Covariance Type:                               opg                                         \n",
       "========================================================================================\n",
       "                           coef    std err          z      P>|z|      [0.025      0.975]\n",
       "----------------------------------------------------------------------------------------\n",
       "principal component1     0.1628      0.050      3.235      0.001       0.064       0.261\n",
       "principal component2    -0.9237      0.077    -11.946      0.000      -1.075      -0.772\n",
       "ma.L1                    0.3464      0.003    101.876      0.000       0.340       0.353\n",
       "ma.L2                    0.1466      0.004     34.906      0.000       0.138       0.155\n",
       "ma.L3                    0.0303      0.005      6.250      0.000       0.021       0.040\n",
       "ma.L4                   -0.0188      0.005     -3.716      0.000      -0.029      -0.009\n",
       "ar.S.L12                 0.0044      0.047      0.093      0.926      -0.088       0.097\n",
       "ar.S.L24                 0.4460      0.003    131.766      0.000       0.439       0.453\n",
       "sigma2                1835.4179      7.654    239.803      0.000    1820.417    1850.419\n",
       "===================================================================================\n",
       "Ljung-Box (L1) (Q):                   0.03   Jarque-Bera (JB):             73791.10\n",
       "Prob(Q):                              0.86   Prob(JB):                         0.00\n",
       "Heteroskedasticity (H):               1.22   Skew:                            -0.38\n",
       "Prob(H) (two-sided):                  0.00   Kurtosis:                        11.30\n",
       "===================================================================================\n",
       "\n",
       "Warnings:\n",
       "[1] Covariance matrix calculated using the outer product of gradients (complex-step).\n",
       "\"\"\""
      ]
     },
     "execution_count": 279,
     "metadata": {},
     "output_type": "execute_result"
    }
   ],
   "source": [
    "model=SARIMAX(train_dangjin_warehouse['energy'],exog=train_dangjin_warehouse[['principal component1','principal component2']],order=(0,1,4),\n",
    "                       seasonal_order=(2, 0, 0, 12),enforce_invertibiblity=False)\n",
    "\n",
    "results=model.fit()\n",
    "\n",
    "results.summary()"
   ]
  },
  {
   "cell_type": "code",
   "execution_count": 280,
   "metadata": {
    "id": "Y0bwcctRm9_B"
   },
   "outputs": [],
   "source": [
    "fcast3=results.predict(0,len(test_dangjin_warehouse),exog=test_dangjin_warehouse[['principal component1','principal component2']]).rename(\"FINAL SARIMAX FORECAST\")"
   ]
  },
  {
   "cell_type": "markdown",
   "metadata": {
    "id": "6OSUMwSDm5nG"
   },
   "source": [
    "### dangjin_floating"
   ]
  },
  {
   "cell_type": "code",
   "execution_count": 96,
   "metadata": {},
   "outputs": [
    {
     "data": {
      "text/html": [
       "<div>\n",
       "<style scoped>\n",
       "    .dataframe tbody tr th:only-of-type {\n",
       "        vertical-align: middle;\n",
       "    }\n",
       "\n",
       "    .dataframe tbody tr th {\n",
       "        vertical-align: top;\n",
       "    }\n",
       "\n",
       "    .dataframe thead th {\n",
       "        text-align: right;\n",
       "    }\n",
       "</style>\n",
       "<table border=\"1\" class=\"dataframe\">\n",
       "  <thead>\n",
       "    <tr style=\"text-align: right;\">\n",
       "      <th></th>\n",
       "      <th>index</th>\n",
       "      <th>date</th>\n",
       "      <th>T3</th>\n",
       "      <th>Wx3</th>\n",
       "      <th>Wy3</th>\n",
       "      <th>H3</th>\n",
       "      <th>C3</th>\n",
       "      <th>dp3</th>\n",
       "      <th>FD3</th>\n",
       "      <th>T6</th>\n",
       "      <th>Wx6</th>\n",
       "      <th>Wy6</th>\n",
       "      <th>H3.1</th>\n",
       "      <th>C6</th>\n",
       "      <th>dp6</th>\n",
       "      <th>FD6</th>\n",
       "      <th>T12</th>\n",
       "      <th>Wx12</th>\n",
       "      <th>Wy12</th>\n",
       "      <th>H12</th>\n",
       "      <th>C12</th>\n",
       "      <th>dp12</th>\n",
       "      <th>FD12</th>\n",
       "      <th>T24</th>\n",
       "      <th>Wx24</th>\n",
       "      <th>Wy24</th>\n",
       "      <th>H24</th>\n",
       "      <th>C24</th>\n",
       "      <th>dp24</th>\n",
       "      <th>FD24</th>\n",
       "      <th>Temperature</th>\n",
       "      <th>Humidity</th>\n",
       "      <th>Cloud</th>\n",
       "      <th>Wind_x</th>\n",
       "      <th>Wind_y</th>\n",
       "      <th>dew_point(째C)</th>\n",
       "      <th>dayofyear</th>\n",
       "      <th>hour</th>\n",
       "      <th>sin_hour</th>\n",
       "      <th>cos_hour</th>\n",
       "      <th>sin_dayofyear</th>\n",
       "      <th>cos_dayofyear</th>\n",
       "      <th>sin(elev ang)</th>\n",
       "      <th>sin(azimuth ang)</th>\n",
       "      <th>cos(azimuth ang)</th>\n",
       "      <th>energy</th>\n",
       "      <th>principal component1</th>\n",
       "      <th>principal component2</th>\n",
       "    </tr>\n",
       "    <tr>\n",
       "      <th>date</th>\n",
       "      <th></th>\n",
       "      <th></th>\n",
       "      <th></th>\n",
       "      <th></th>\n",
       "      <th></th>\n",
       "      <th></th>\n",
       "      <th></th>\n",
       "      <th></th>\n",
       "      <th></th>\n",
       "      <th></th>\n",
       "      <th></th>\n",
       "      <th></th>\n",
       "      <th></th>\n",
       "      <th></th>\n",
       "      <th></th>\n",
       "      <th></th>\n",
       "      <th></th>\n",
       "      <th></th>\n",
       "      <th></th>\n",
       "      <th></th>\n",
       "      <th></th>\n",
       "      <th></th>\n",
       "      <th></th>\n",
       "      <th></th>\n",
       "      <th></th>\n",
       "      <th></th>\n",
       "      <th></th>\n",
       "      <th></th>\n",
       "      <th></th>\n",
       "      <th></th>\n",
       "      <th></th>\n",
       "      <th></th>\n",
       "      <th></th>\n",
       "      <th></th>\n",
       "      <th></th>\n",
       "      <th></th>\n",
       "      <th></th>\n",
       "      <th></th>\n",
       "      <th></th>\n",
       "      <th></th>\n",
       "      <th></th>\n",
       "      <th></th>\n",
       "      <th></th>\n",
       "      <th></th>\n",
       "      <th></th>\n",
       "      <th></th>\n",
       "      <th></th>\n",
       "      <th></th>\n",
       "    </tr>\n",
       "  </thead>\n",
       "  <tbody>\n",
       "    <tr>\n",
       "      <th>2018-03-03 00:00:00</th>\n",
       "      <td>0</td>\n",
       "      <td>2018-03-03 0:00</td>\n",
       "      <td>-2.300000</td>\n",
       "      <td>3.234936</td>\n",
       "      <td>-1.128891e+00</td>\n",
       "      <td>57.000000</td>\n",
       "      <td>0.600000</td>\n",
       "      <td>-9.633333</td>\n",
       "      <td>42.000000</td>\n",
       "      <td>-2.033333</td>\n",
       "      <td>3.328301</td>\n",
       "      <td>-2.000005</td>\n",
       "      <td>59.666667</td>\n",
       "      <td>0.583333</td>\n",
       "      <td>-8.816667</td>\n",
       "      <td>49.666667</td>\n",
       "      <td>-0.975000</td>\n",
       "      <td>3.416215</td>\n",
       "      <td>-2.900476</td>\n",
       "      <td>58.916667</td>\n",
       "      <td>0.541667</td>\n",
       "      <td>-7.975000</td>\n",
       "      <td>57.416667</td>\n",
       "      <td>0.450000</td>\n",
       "      <td>3.279195</td>\n",
       "      <td>-3.302690</td>\n",
       "      <td>70.958333</td>\n",
       "      <td>0.554167</td>\n",
       "      <td>-4.454167</td>\n",
       "      <td>49.208333</td>\n",
       "      <td>-2.000000</td>\n",
       "      <td>80.000000</td>\n",
       "      <td>0.333333</td>\n",
       "      <td>-0.395032</td>\n",
       "      <td>1.858480</td>\n",
       "      <td>-4.990911</td>\n",
       "      <td>62</td>\n",
       "      <td>0</td>\n",
       "      <td>0.000000</td>\n",
       "      <td>1.000000</td>\n",
       "      <td>0.875892</td>\n",
       "      <td>0.482508</td>\n",
       "      <td>-0.862334</td>\n",
       "      <td>-0.288987</td>\n",
       "      <td>0.957333</td>\n",
       "      <td>0.0</td>\n",
       "      <td>14.420785</td>\n",
       "      <td>-18.881958</td>\n",
       "    </tr>\n",
       "    <tr>\n",
       "      <th>2018-03-03 01:00:00</th>\n",
       "      <td>1</td>\n",
       "      <td>2018-03-03 1:00</td>\n",
       "      <td>-2.600000</td>\n",
       "      <td>3.658954</td>\n",
       "      <td>-4.218248e-01</td>\n",
       "      <td>54.666667</td>\n",
       "      <td>0.633333</td>\n",
       "      <td>-10.433333</td>\n",
       "      <td>38.333333</td>\n",
       "      <td>-2.216667</td>\n",
       "      <td>3.399868</td>\n",
       "      <td>-1.528627</td>\n",
       "      <td>58.000000</td>\n",
       "      <td>0.616667</td>\n",
       "      <td>-9.350000</td>\n",
       "      <td>45.000000</td>\n",
       "      <td>-1.333333</td>\n",
       "      <td>3.317941</td>\n",
       "      <td>-2.552299</td>\n",
       "      <td>58.333333</td>\n",
       "      <td>0.558333</td>\n",
       "      <td>-8.441667</td>\n",
       "      <td>55.166667</td>\n",
       "      <td>0.216667</td>\n",
       "      <td>3.459871</td>\n",
       "      <td>-3.321438</td>\n",
       "      <td>69.125000</td>\n",
       "      <td>0.554167</td>\n",
       "      <td>-5.008333</td>\n",
       "      <td>50.250000</td>\n",
       "      <td>-2.019478</td>\n",
       "      <td>79.435790</td>\n",
       "      <td>0.369300</td>\n",
       "      <td>-0.256762</td>\n",
       "      <td>1.698097</td>\n",
       "      <td>-5.103545</td>\n",
       "      <td>62</td>\n",
       "      <td>1</td>\n",
       "      <td>0.258819</td>\n",
       "      <td>0.965926</td>\n",
       "      <td>0.875892</td>\n",
       "      <td>0.482508</td>\n",
       "      <td>-0.865901</td>\n",
       "      <td>0.224661</td>\n",
       "      <td>0.974437</td>\n",
       "      <td>0.0</td>\n",
       "      <td>11.429188</td>\n",
       "      <td>-22.091333</td>\n",
       "    </tr>\n",
       "    <tr>\n",
       "      <th>2018-03-03 02:00:00</th>\n",
       "      <td>2</td>\n",
       "      <td>2018-03-03 2:00</td>\n",
       "      <td>-2.900000</td>\n",
       "      <td>3.333333</td>\n",
       "      <td>-5.180000e-16</td>\n",
       "      <td>53.666667</td>\n",
       "      <td>0.666667</td>\n",
       "      <td>-10.933333</td>\n",
       "      <td>36.333333</td>\n",
       "      <td>-2.450000</td>\n",
       "      <td>3.267536</td>\n",
       "      <td>-1.067963</td>\n",
       "      <td>56.166667</td>\n",
       "      <td>0.633333</td>\n",
       "      <td>-9.966667</td>\n",
       "      <td>42.000000</td>\n",
       "      <td>-1.608333</td>\n",
       "      <td>3.126905</td>\n",
       "      <td>-2.406940</td>\n",
       "      <td>58.000000</td>\n",
       "      <td>0.575000</td>\n",
       "      <td>-8.775000</td>\n",
       "      <td>52.916667</td>\n",
       "      <td>-0.025000</td>\n",
       "      <td>3.461898</td>\n",
       "      <td>-3.235733</td>\n",
       "      <td>67.333333</td>\n",
       "      <td>0.554167</td>\n",
       "      <td>-5.566667</td>\n",
       "      <td>51.291667</td>\n",
       "      <td>-1.976883</td>\n",
       "      <td>79.072872</td>\n",
       "      <td>0.358062</td>\n",
       "      <td>-0.048958</td>\n",
       "      <td>1.750787</td>\n",
       "      <td>-5.122597</td>\n",
       "      <td>62</td>\n",
       "      <td>2</td>\n",
       "      <td>0.500000</td>\n",
       "      <td>0.866025</td>\n",
       "      <td>0.875892</td>\n",
       "      <td>0.482508</td>\n",
       "      <td>-0.815907</td>\n",
       "      <td>0.628564</td>\n",
       "      <td>0.777757</td>\n",
       "      <td>0.0</td>\n",
       "      <td>9.769403</td>\n",
       "      <td>-23.598013</td>\n",
       "    </tr>\n",
       "    <tr>\n",
       "      <th>2018-03-03 03:00:00</th>\n",
       "      <td>3</td>\n",
       "      <td>2018-03-03 3:00</td>\n",
       "      <td>-3.166667</td>\n",
       "      <td>2.914400</td>\n",
       "      <td>2.964175e-01</td>\n",
       "      <td>51.666667</td>\n",
       "      <td>0.666667</td>\n",
       "      <td>-11.666667</td>\n",
       "      <td>37.333333</td>\n",
       "      <td>-2.733333</td>\n",
       "      <td>3.074668</td>\n",
       "      <td>-0.416237</td>\n",
       "      <td>54.333333</td>\n",
       "      <td>0.633333</td>\n",
       "      <td>-10.650000</td>\n",
       "      <td>39.666667</td>\n",
       "      <td>-1.933333</td>\n",
       "      <td>3.011320</td>\n",
       "      <td>-2.065008</td>\n",
       "      <td>57.500000</td>\n",
       "      <td>0.583333</td>\n",
       "      <td>-9.200000</td>\n",
       "      <td>50.750000</td>\n",
       "      <td>-0.254167</td>\n",
       "      <td>3.614586</td>\n",
       "      <td>-3.138035</td>\n",
       "      <td>65.375000</td>\n",
       "      <td>0.550000</td>\n",
       "      <td>-6.145833</td>\n",
       "      <td>52.208333</td>\n",
       "      <td>-2.000000</td>\n",
       "      <td>80.000000</td>\n",
       "      <td>0.333333</td>\n",
       "      <td>-0.099438</td>\n",
       "      <td>1.897396</td>\n",
       "      <td>-4.990911</td>\n",
       "      <td>62</td>\n",
       "      <td>3</td>\n",
       "      <td>0.707107</td>\n",
       "      <td>0.707107</td>\n",
       "      <td>0.875892</td>\n",
       "      <td>0.482508</td>\n",
       "      <td>-0.715760</td>\n",
       "      <td>0.844430</td>\n",
       "      <td>0.535666</td>\n",
       "      <td>0.0</td>\n",
       "      <td>11.219242</td>\n",
       "      <td>-25.449844</td>\n",
       "    </tr>\n",
       "    <tr>\n",
       "      <th>2018-03-03 04:00:00</th>\n",
       "      <td>4</td>\n",
       "      <td>2018-03-03 4:00</td>\n",
       "      <td>-3.633333</td>\n",
       "      <td>1.947701</td>\n",
       "      <td>6.539049e-01</td>\n",
       "      <td>52.333333</td>\n",
       "      <td>0.633333</td>\n",
       "      <td>-11.966667</td>\n",
       "      <td>42.000000</td>\n",
       "      <td>-3.116667</td>\n",
       "      <td>2.803328</td>\n",
       "      <td>0.116040</td>\n",
       "      <td>53.500000</td>\n",
       "      <td>0.633333</td>\n",
       "      <td>-11.200000</td>\n",
       "      <td>40.166667</td>\n",
       "      <td>-2.308333</td>\n",
       "      <td>2.915302</td>\n",
       "      <td>-1.505790</td>\n",
       "      <td>57.416667</td>\n",
       "      <td>0.591667</td>\n",
       "      <td>-9.575000</td>\n",
       "      <td>49.333333</td>\n",
       "      <td>-0.520833</td>\n",
       "      <td>3.739582</td>\n",
       "      <td>-3.093349</td>\n",
       "      <td>63.625000</td>\n",
       "      <td>0.550000</td>\n",
       "      <td>-6.712500</td>\n",
       "      <td>53.416667</td>\n",
       "      <td>-2.152114</td>\n",
       "      <td>82.698177</td>\n",
       "      <td>0.322086</td>\n",
       "      <td>-0.622530</td>\n",
       "      <td>2.032728</td>\n",
       "      <td>-4.699921</td>\n",
       "      <td>62</td>\n",
       "      <td>4</td>\n",
       "      <td>0.866025</td>\n",
       "      <td>0.500000</td>\n",
       "      <td>0.875892</td>\n",
       "      <td>0.482508</td>\n",
       "      <td>-0.572283</td>\n",
       "      <td>0.946030</td>\n",
       "      <td>0.324080</td>\n",
       "      <td>0.0</td>\n",
       "      <td>15.702102</td>\n",
       "      <td>-23.892936</td>\n",
       "    </tr>\n",
       "    <tr>\n",
       "      <th>...</th>\n",
       "      <td>...</td>\n",
       "      <td>...</td>\n",
       "      <td>...</td>\n",
       "      <td>...</td>\n",
       "      <td>...</td>\n",
       "      <td>...</td>\n",
       "      <td>...</td>\n",
       "      <td>...</td>\n",
       "      <td>...</td>\n",
       "      <td>...</td>\n",
       "      <td>...</td>\n",
       "      <td>...</td>\n",
       "      <td>...</td>\n",
       "      <td>...</td>\n",
       "      <td>...</td>\n",
       "      <td>...</td>\n",
       "      <td>...</td>\n",
       "      <td>...</td>\n",
       "      <td>...</td>\n",
       "      <td>...</td>\n",
       "      <td>...</td>\n",
       "      <td>...</td>\n",
       "      <td>...</td>\n",
       "      <td>...</td>\n",
       "      <td>...</td>\n",
       "      <td>...</td>\n",
       "      <td>...</td>\n",
       "      <td>...</td>\n",
       "      <td>...</td>\n",
       "      <td>...</td>\n",
       "      <td>...</td>\n",
       "      <td>...</td>\n",
       "      <td>...</td>\n",
       "      <td>...</td>\n",
       "      <td>...</td>\n",
       "      <td>...</td>\n",
       "      <td>...</td>\n",
       "      <td>...</td>\n",
       "      <td>...</td>\n",
       "      <td>...</td>\n",
       "      <td>...</td>\n",
       "      <td>...</td>\n",
       "      <td>...</td>\n",
       "      <td>...</td>\n",
       "      <td>...</td>\n",
       "      <td>...</td>\n",
       "      <td>...</td>\n",
       "      <td>...</td>\n",
       "    </tr>\n",
       "    <tr>\n",
       "      <th>2021-01-31 19:00:00</th>\n",
       "      <td>25555</td>\n",
       "      <td>2021-01-31 19:00</td>\n",
       "      <td>3.466667</td>\n",
       "      <td>1.104349</td>\n",
       "      <td>-3.534208e-01</td>\n",
       "      <td>63.000000</td>\n",
       "      <td>0.000000</td>\n",
       "      <td>-3.066667</td>\n",
       "      <td>131.333333</td>\n",
       "      <td>5.433333</td>\n",
       "      <td>1.248482</td>\n",
       "      <td>-1.861388</td>\n",
       "      <td>56.000000</td>\n",
       "      <td>0.033333</td>\n",
       "      <td>-2.850000</td>\n",
       "      <td>146.166667</td>\n",
       "      <td>4.600000</td>\n",
       "      <td>0.067148</td>\n",
       "      <td>-1.897564</td>\n",
       "      <td>63.416667</td>\n",
       "      <td>0.400000</td>\n",
       "      <td>-1.991667</td>\n",
       "      <td>110.666667</td>\n",
       "      <td>-0.504167</td>\n",
       "      <td>-0.153580</td>\n",
       "      <td>-0.984725</td>\n",
       "      <td>69.958333</td>\n",
       "      <td>0.420833</td>\n",
       "      <td>-5.525000</td>\n",
       "      <td>70.166667</td>\n",
       "      <td>5.513659</td>\n",
       "      <td>77.698089</td>\n",
       "      <td>0.990358</td>\n",
       "      <td>-3.038161</td>\n",
       "      <td>0.025389</td>\n",
       "      <td>1.924737</td>\n",
       "      <td>31</td>\n",
       "      <td>19</td>\n",
       "      <td>-0.965926</td>\n",
       "      <td>0.258819</td>\n",
       "      <td>0.508671</td>\n",
       "      <td>0.860961</td>\n",
       "      <td>-0.270730</td>\n",
       "      <td>-0.982466</td>\n",
       "      <td>-0.186443</td>\n",
       "      <td>0.0</td>\n",
       "      <td>98.210740</td>\n",
       "      <td>8.383643</td>\n",
       "    </tr>\n",
       "    <tr>\n",
       "      <th>2021-01-31 20:00:00</th>\n",
       "      <td>25556</td>\n",
       "      <td>2021-01-31 20:00</td>\n",
       "      <td>1.366667</td>\n",
       "      <td>0.443800</td>\n",
       "      <td>1.707800e-01</td>\n",
       "      <td>73.000000</td>\n",
       "      <td>0.000000</td>\n",
       "      <td>-3.033333</td>\n",
       "      <td>122.666667</td>\n",
       "      <td>4.133333</td>\n",
       "      <td>1.031869</td>\n",
       "      <td>-1.015664</td>\n",
       "      <td>60.500000</td>\n",
       "      <td>0.033333</td>\n",
       "      <td>-3.200000</td>\n",
       "      <td>139.166667</td>\n",
       "      <td>4.541667</td>\n",
       "      <td>0.324873</td>\n",
       "      <td>-1.749413</td>\n",
       "      <td>63.916667</td>\n",
       "      <td>0.316667</td>\n",
       "      <td>-1.966667</td>\n",
       "      <td>116.750000</td>\n",
       "      <td>-0.250000</td>\n",
       "      <td>-0.142179</td>\n",
       "      <td>-1.003402</td>\n",
       "      <td>70.583333</td>\n",
       "      <td>0.420833</td>\n",
       "      <td>-5.170833</td>\n",
       "      <td>73.916667</td>\n",
       "      <td>5.616223</td>\n",
       "      <td>79.424636</td>\n",
       "      <td>0.993445</td>\n",
       "      <td>-3.195202</td>\n",
       "      <td>0.471179</td>\n",
       "      <td>2.333071</td>\n",
       "      <td>31</td>\n",
       "      <td>20</td>\n",
       "      <td>-0.866025</td>\n",
       "      <td>0.500000</td>\n",
       "      <td>0.508671</td>\n",
       "      <td>0.860961</td>\n",
       "      <td>-0.463159</td>\n",
       "      <td>-0.999255</td>\n",
       "      <td>-0.038597</td>\n",
       "      <td>0.0</td>\n",
       "      <td>88.276383</td>\n",
       "      <td>15.745215</td>\n",
       "    </tr>\n",
       "    <tr>\n",
       "      <th>2021-01-31 21:00:00</th>\n",
       "      <td>25557</td>\n",
       "      <td>2021-01-31 21:00</td>\n",
       "      <td>-0.366667</td>\n",
       "      <td>0.224539</td>\n",
       "      <td>2.505847e-01</td>\n",
       "      <td>80.333333</td>\n",
       "      <td>0.000000</td>\n",
       "      <td>-3.333333</td>\n",
       "      <td>115.666667</td>\n",
       "      <td>2.633333</td>\n",
       "      <td>0.597777</td>\n",
       "      <td>-0.651418</td>\n",
       "      <td>66.166667</td>\n",
       "      <td>0.033333</td>\n",
       "      <td>-3.466667</td>\n",
       "      <td>129.500000</td>\n",
       "      <td>4.308333</td>\n",
       "      <td>0.465827</td>\n",
       "      <td>-1.698110</td>\n",
       "      <td>64.583333</td>\n",
       "      <td>0.291667</td>\n",
       "      <td>-2.083333</td>\n",
       "      <td>121.333333</td>\n",
       "      <td>-0.029167</td>\n",
       "      <td>-0.130778</td>\n",
       "      <td>-0.972079</td>\n",
       "      <td>71.125000</td>\n",
       "      <td>0.420833</td>\n",
       "      <td>-4.866667</td>\n",
       "      <td>77.291667</td>\n",
       "      <td>6.000000</td>\n",
       "      <td>80.000000</td>\n",
       "      <td>1.000000</td>\n",
       "      <td>-3.814776</td>\n",
       "      <td>0.810856</td>\n",
       "      <td>2.808642</td>\n",
       "      <td>31</td>\n",
       "      <td>21</td>\n",
       "      <td>-0.707107</td>\n",
       "      <td>0.707107</td>\n",
       "      <td>0.508671</td>\n",
       "      <td>0.860961</td>\n",
       "      <td>-0.636603</td>\n",
       "      <td>-0.992102</td>\n",
       "      <td>0.125433</td>\n",
       "      <td>0.0</td>\n",
       "      <td>80.439599</td>\n",
       "      <td>20.893183</td>\n",
       "    </tr>\n",
       "    <tr>\n",
       "      <th>2021-01-31 22:00:00</th>\n",
       "      <td>25558</td>\n",
       "      <td>2021-01-31 22:00</td>\n",
       "      <td>-1.300000</td>\n",
       "      <td>0.124539</td>\n",
       "      <td>2.505847e-01</td>\n",
       "      <td>84.000000</td>\n",
       "      <td>0.000000</td>\n",
       "      <td>-3.633333</td>\n",
       "      <td>107.333333</td>\n",
       "      <td>1.083333</td>\n",
       "      <td>0.614444</td>\n",
       "      <td>-0.051418</td>\n",
       "      <td>73.500000</td>\n",
       "      <td>0.000000</td>\n",
       "      <td>-3.350000</td>\n",
       "      <td>119.333333</td>\n",
       "      <td>3.916667</td>\n",
       "      <td>0.690827</td>\n",
       "      <td>-1.698110</td>\n",
       "      <td>65.333333</td>\n",
       "      <td>0.208333</td>\n",
       "      <td>-2.341667</td>\n",
       "      <td>125.416667</td>\n",
       "      <td>0.179167</td>\n",
       "      <td>-0.116636</td>\n",
       "      <td>-0.999487</td>\n",
       "      <td>71.750000</td>\n",
       "      <td>0.420833</td>\n",
       "      <td>-4.562500</td>\n",
       "      <td>80.500000</td>\n",
       "      <td>6.403160</td>\n",
       "      <td>79.502963</td>\n",
       "      <td>1.000000</td>\n",
       "      <td>-4.786128</td>\n",
       "      <td>0.945107</td>\n",
       "      <td>3.113289</td>\n",
       "      <td>31</td>\n",
       "      <td>22</td>\n",
       "      <td>-0.500000</td>\n",
       "      <td>0.866025</td>\n",
       "      <td>0.508671</td>\n",
       "      <td>0.860961</td>\n",
       "      <td>-0.779243</td>\n",
       "      <td>-0.945311</td>\n",
       "      <td>0.326171</td>\n",
       "      <td>0.0</td>\n",
       "      <td>71.873744</td>\n",
       "      <td>22.368920</td>\n",
       "    </tr>\n",
       "    <tr>\n",
       "      <th>2021-01-31 23:00:00</th>\n",
       "      <td>25559</td>\n",
       "      <td>2021-01-31 23:00</td>\n",
       "      <td>-2.000000</td>\n",
       "      <td>0.135939</td>\n",
       "      <td>2.819078e-01</td>\n",
       "      <td>86.000000</td>\n",
       "      <td>0.033333</td>\n",
       "      <td>-4.000000</td>\n",
       "      <td>98.333333</td>\n",
       "      <td>-0.316667</td>\n",
       "      <td>0.289870</td>\n",
       "      <td>0.226344</td>\n",
       "      <td>79.500000</td>\n",
       "      <td>0.016667</td>\n",
       "      <td>-3.516667</td>\n",
       "      <td>110.500000</td>\n",
       "      <td>3.333333</td>\n",
       "      <td>0.983145</td>\n",
       "      <td>-1.627633</td>\n",
       "      <td>66.416667</td>\n",
       "      <td>0.141667</td>\n",
       "      <td>-2.725000</td>\n",
       "      <td>125.083333</td>\n",
       "      <td>0.395833</td>\n",
       "      <td>-0.120477</td>\n",
       "      <td>-0.964249</td>\n",
       "      <td>72.125000</td>\n",
       "      <td>0.425000</td>\n",
       "      <td>-4.291667</td>\n",
       "      <td>83.208333</td>\n",
       "      <td>6.747329</td>\n",
       "      <td>79.045998</td>\n",
       "      <td>1.000000</td>\n",
       "      <td>-5.679501</td>\n",
       "      <td>0.826023</td>\n",
       "      <td>3.366655</td>\n",
       "      <td>31</td>\n",
       "      <td>23</td>\n",
       "      <td>-0.258819</td>\n",
       "      <td>0.965926</td>\n",
       "      <td>0.508671</td>\n",
       "      <td>0.860961</td>\n",
       "      <td>-0.881359</td>\n",
       "      <td>-0.803091</td>\n",
       "      <td>0.595856</td>\n",
       "      <td>0.0</td>\n",
       "      <td>62.941311</td>\n",
       "      <td>22.136636</td>\n",
       "    </tr>\n",
       "  </tbody>\n",
       "</table>\n",
       "<p>25560 rows × 48 columns</p>\n",
       "</div>"
      ],
      "text/plain": [
       "                     index              date        T3       Wx3  \\\n",
       "date                                                               \n",
       "2018-03-03 00:00:00      0   2018-03-03 0:00 -2.300000  3.234936   \n",
       "2018-03-03 01:00:00      1   2018-03-03 1:00 -2.600000  3.658954   \n",
       "2018-03-03 02:00:00      2   2018-03-03 2:00 -2.900000  3.333333   \n",
       "2018-03-03 03:00:00      3   2018-03-03 3:00 -3.166667  2.914400   \n",
       "2018-03-03 04:00:00      4   2018-03-03 4:00 -3.633333  1.947701   \n",
       "...                    ...               ...       ...       ...   \n",
       "2021-01-31 19:00:00  25555  2021-01-31 19:00  3.466667  1.104349   \n",
       "2021-01-31 20:00:00  25556  2021-01-31 20:00  1.366667  0.443800   \n",
       "2021-01-31 21:00:00  25557  2021-01-31 21:00 -0.366667  0.224539   \n",
       "2021-01-31 22:00:00  25558  2021-01-31 22:00 -1.300000  0.124539   \n",
       "2021-01-31 23:00:00  25559  2021-01-31 23:00 -2.000000  0.135939   \n",
       "\n",
       "                              Wy3         H3        C3        dp3         FD3  \\\n",
       "date                                                                            \n",
       "2018-03-03 00:00:00 -1.128891e+00  57.000000  0.600000  -9.633333   42.000000   \n",
       "2018-03-03 01:00:00 -4.218248e-01  54.666667  0.633333 -10.433333   38.333333   \n",
       "2018-03-03 02:00:00 -5.180000e-16  53.666667  0.666667 -10.933333   36.333333   \n",
       "2018-03-03 03:00:00  2.964175e-01  51.666667  0.666667 -11.666667   37.333333   \n",
       "2018-03-03 04:00:00  6.539049e-01  52.333333  0.633333 -11.966667   42.000000   \n",
       "...                           ...        ...       ...        ...         ...   \n",
       "2021-01-31 19:00:00 -3.534208e-01  63.000000  0.000000  -3.066667  131.333333   \n",
       "2021-01-31 20:00:00  1.707800e-01  73.000000  0.000000  -3.033333  122.666667   \n",
       "2021-01-31 21:00:00  2.505847e-01  80.333333  0.000000  -3.333333  115.666667   \n",
       "2021-01-31 22:00:00  2.505847e-01  84.000000  0.000000  -3.633333  107.333333   \n",
       "2021-01-31 23:00:00  2.819078e-01  86.000000  0.033333  -4.000000   98.333333   \n",
       "\n",
       "                           T6       Wx6       Wy6       H3.1        C6  \\\n",
       "date                                                                     \n",
       "2018-03-03 00:00:00 -2.033333  3.328301 -2.000005  59.666667  0.583333   \n",
       "2018-03-03 01:00:00 -2.216667  3.399868 -1.528627  58.000000  0.616667   \n",
       "2018-03-03 02:00:00 -2.450000  3.267536 -1.067963  56.166667  0.633333   \n",
       "2018-03-03 03:00:00 -2.733333  3.074668 -0.416237  54.333333  0.633333   \n",
       "2018-03-03 04:00:00 -3.116667  2.803328  0.116040  53.500000  0.633333   \n",
       "...                       ...       ...       ...        ...       ...   \n",
       "2021-01-31 19:00:00  5.433333  1.248482 -1.861388  56.000000  0.033333   \n",
       "2021-01-31 20:00:00  4.133333  1.031869 -1.015664  60.500000  0.033333   \n",
       "2021-01-31 21:00:00  2.633333  0.597777 -0.651418  66.166667  0.033333   \n",
       "2021-01-31 22:00:00  1.083333  0.614444 -0.051418  73.500000  0.000000   \n",
       "2021-01-31 23:00:00 -0.316667  0.289870  0.226344  79.500000  0.016667   \n",
       "\n",
       "                           dp6         FD6       T12      Wx12      Wy12  \\\n",
       "date                                                                       \n",
       "2018-03-03 00:00:00  -8.816667   49.666667 -0.975000  3.416215 -2.900476   \n",
       "2018-03-03 01:00:00  -9.350000   45.000000 -1.333333  3.317941 -2.552299   \n",
       "2018-03-03 02:00:00  -9.966667   42.000000 -1.608333  3.126905 -2.406940   \n",
       "2018-03-03 03:00:00 -10.650000   39.666667 -1.933333  3.011320 -2.065008   \n",
       "2018-03-03 04:00:00 -11.200000   40.166667 -2.308333  2.915302 -1.505790   \n",
       "...                        ...         ...       ...       ...       ...   \n",
       "2021-01-31 19:00:00  -2.850000  146.166667  4.600000  0.067148 -1.897564   \n",
       "2021-01-31 20:00:00  -3.200000  139.166667  4.541667  0.324873 -1.749413   \n",
       "2021-01-31 21:00:00  -3.466667  129.500000  4.308333  0.465827 -1.698110   \n",
       "2021-01-31 22:00:00  -3.350000  119.333333  3.916667  0.690827 -1.698110   \n",
       "2021-01-31 23:00:00  -3.516667  110.500000  3.333333  0.983145 -1.627633   \n",
       "\n",
       "                           H12       C12      dp12        FD12       T24  \\\n",
       "date                                                                       \n",
       "2018-03-03 00:00:00  58.916667  0.541667 -7.975000   57.416667  0.450000   \n",
       "2018-03-03 01:00:00  58.333333  0.558333 -8.441667   55.166667  0.216667   \n",
       "2018-03-03 02:00:00  58.000000  0.575000 -8.775000   52.916667 -0.025000   \n",
       "2018-03-03 03:00:00  57.500000  0.583333 -9.200000   50.750000 -0.254167   \n",
       "2018-03-03 04:00:00  57.416667  0.591667 -9.575000   49.333333 -0.520833   \n",
       "...                        ...       ...       ...         ...       ...   \n",
       "2021-01-31 19:00:00  63.416667  0.400000 -1.991667  110.666667 -0.504167   \n",
       "2021-01-31 20:00:00  63.916667  0.316667 -1.966667  116.750000 -0.250000   \n",
       "2021-01-31 21:00:00  64.583333  0.291667 -2.083333  121.333333 -0.029167   \n",
       "2021-01-31 22:00:00  65.333333  0.208333 -2.341667  125.416667  0.179167   \n",
       "2021-01-31 23:00:00  66.416667  0.141667 -2.725000  125.083333  0.395833   \n",
       "\n",
       "                         Wx24      Wy24        H24       C24      dp24  \\\n",
       "date                                                                     \n",
       "2018-03-03 00:00:00  3.279195 -3.302690  70.958333  0.554167 -4.454167   \n",
       "2018-03-03 01:00:00  3.459871 -3.321438  69.125000  0.554167 -5.008333   \n",
       "2018-03-03 02:00:00  3.461898 -3.235733  67.333333  0.554167 -5.566667   \n",
       "2018-03-03 03:00:00  3.614586 -3.138035  65.375000  0.550000 -6.145833   \n",
       "2018-03-03 04:00:00  3.739582 -3.093349  63.625000  0.550000 -6.712500   \n",
       "...                       ...       ...        ...       ...       ...   \n",
       "2021-01-31 19:00:00 -0.153580 -0.984725  69.958333  0.420833 -5.525000   \n",
       "2021-01-31 20:00:00 -0.142179 -1.003402  70.583333  0.420833 -5.170833   \n",
       "2021-01-31 21:00:00 -0.130778 -0.972079  71.125000  0.420833 -4.866667   \n",
       "2021-01-31 22:00:00 -0.116636 -0.999487  71.750000  0.420833 -4.562500   \n",
       "2021-01-31 23:00:00 -0.120477 -0.964249  72.125000  0.425000 -4.291667   \n",
       "\n",
       "                          FD24  Temperature   Humidity     Cloud    Wind_x  \\\n",
       "date                                                                         \n",
       "2018-03-03 00:00:00  49.208333    -2.000000  80.000000  0.333333 -0.395032   \n",
       "2018-03-03 01:00:00  50.250000    -2.019478  79.435790  0.369300 -0.256762   \n",
       "2018-03-03 02:00:00  51.291667    -1.976883  79.072872  0.358062 -0.048958   \n",
       "2018-03-03 03:00:00  52.208333    -2.000000  80.000000  0.333333 -0.099438   \n",
       "2018-03-03 04:00:00  53.416667    -2.152114  82.698177  0.322086 -0.622530   \n",
       "...                        ...          ...        ...       ...       ...   \n",
       "2021-01-31 19:00:00  70.166667     5.513659  77.698089  0.990358 -3.038161   \n",
       "2021-01-31 20:00:00  73.916667     5.616223  79.424636  0.993445 -3.195202   \n",
       "2021-01-31 21:00:00  77.291667     6.000000  80.000000  1.000000 -3.814776   \n",
       "2021-01-31 22:00:00  80.500000     6.403160  79.502963  1.000000 -4.786128   \n",
       "2021-01-31 23:00:00  83.208333     6.747329  79.045998  1.000000 -5.679501   \n",
       "\n",
       "                       Wind_y  dew_point(째C)  dayofyear  hour  sin_hour  \\\n",
       "date                                                                      \n",
       "2018-03-03 00:00:00  1.858480      -4.990911         62     0  0.000000   \n",
       "2018-03-03 01:00:00  1.698097      -5.103545         62     1  0.258819   \n",
       "2018-03-03 02:00:00  1.750787      -5.122597         62     2  0.500000   \n",
       "2018-03-03 03:00:00  1.897396      -4.990911         62     3  0.707107   \n",
       "2018-03-03 04:00:00  2.032728      -4.699921         62     4  0.866025   \n",
       "...                       ...            ...        ...   ...       ...   \n",
       "2021-01-31 19:00:00  0.025389       1.924737         31    19 -0.965926   \n",
       "2021-01-31 20:00:00  0.471179       2.333071         31    20 -0.866025   \n",
       "2021-01-31 21:00:00  0.810856       2.808642         31    21 -0.707107   \n",
       "2021-01-31 22:00:00  0.945107       3.113289         31    22 -0.500000   \n",
       "2021-01-31 23:00:00  0.826023       3.366655         31    23 -0.258819   \n",
       "\n",
       "                     cos_hour  sin_dayofyear  cos_dayofyear  sin(elev ang)  \\\n",
       "date                                                                         \n",
       "2018-03-03 00:00:00  1.000000       0.875892       0.482508      -0.862334   \n",
       "2018-03-03 01:00:00  0.965926       0.875892       0.482508      -0.865901   \n",
       "2018-03-03 02:00:00  0.866025       0.875892       0.482508      -0.815907   \n",
       "2018-03-03 03:00:00  0.707107       0.875892       0.482508      -0.715760   \n",
       "2018-03-03 04:00:00  0.500000       0.875892       0.482508      -0.572283   \n",
       "...                       ...            ...            ...            ...   \n",
       "2021-01-31 19:00:00  0.258819       0.508671       0.860961      -0.270730   \n",
       "2021-01-31 20:00:00  0.500000       0.508671       0.860961      -0.463159   \n",
       "2021-01-31 21:00:00  0.707107       0.508671       0.860961      -0.636603   \n",
       "2021-01-31 22:00:00  0.866025       0.508671       0.860961      -0.779243   \n",
       "2021-01-31 23:00:00  0.965926       0.508671       0.860961      -0.881359   \n",
       "\n",
       "                     sin(azimuth ang)  cos(azimuth ang)  energy  \\\n",
       "date                                                              \n",
       "2018-03-03 00:00:00         -0.288987          0.957333     0.0   \n",
       "2018-03-03 01:00:00          0.224661          0.974437     0.0   \n",
       "2018-03-03 02:00:00          0.628564          0.777757     0.0   \n",
       "2018-03-03 03:00:00          0.844430          0.535666     0.0   \n",
       "2018-03-03 04:00:00          0.946030          0.324080     0.0   \n",
       "...                               ...               ...     ...   \n",
       "2021-01-31 19:00:00         -0.982466         -0.186443     0.0   \n",
       "2021-01-31 20:00:00         -0.999255         -0.038597     0.0   \n",
       "2021-01-31 21:00:00         -0.992102          0.125433     0.0   \n",
       "2021-01-31 22:00:00         -0.945311          0.326171     0.0   \n",
       "2021-01-31 23:00:00         -0.803091          0.595856     0.0   \n",
       "\n",
       "                     principal component1  principal component2  \n",
       "date                                                             \n",
       "2018-03-03 00:00:00             14.420785            -18.881958  \n",
       "2018-03-03 01:00:00             11.429188            -22.091333  \n",
       "2018-03-03 02:00:00              9.769403            -23.598013  \n",
       "2018-03-03 03:00:00             11.219242            -25.449844  \n",
       "2018-03-03 04:00:00             15.702102            -23.892936  \n",
       "...                                   ...                   ...  \n",
       "2021-01-31 19:00:00             98.210740              8.383643  \n",
       "2021-01-31 20:00:00             88.276383             15.745215  \n",
       "2021-01-31 21:00:00             80.439599             20.893183  \n",
       "2021-01-31 22:00:00             71.873744             22.368920  \n",
       "2021-01-31 23:00:00             62.941311             22.136636  \n",
       "\n",
       "[25560 rows x 48 columns]"
      ]
     },
     "execution_count": 96,
     "metadata": {},
     "output_type": "execute_result"
    }
   ],
   "source": [
    "train_dangjin_floating"
   ]
  },
  {
   "cell_type": "code",
   "execution_count": 281,
   "metadata": {
    "colab": {
     "base_uri": "https://localhost:8080/",
     "height": 601
    },
    "id": "v0Wnn0w5m8zS",
    "outputId": "a976539a-3adc-4646-bc7b-3f15d809791b"
   },
   "outputs": [
    {
     "name": "stderr",
     "output_type": "stream",
     "text": [
      "/home/nayounlee2/anaconda3/lib/python3.6/site-packages/statsmodels/tsa/base/tsa_model.py:583: ValueWarning: A date index has been provided, but it has no associated frequency information and so will be ignored when e.g. forecasting.\n",
      "  ' ignored when e.g. forecasting.', ValueWarning)\n",
      "/home/nayounlee2/anaconda3/lib/python3.6/site-packages/statsmodels/tsa/base/tsa_model.py:583: ValueWarning: A date index has been provided, but it has no associated frequency information and so will be ignored when e.g. forecasting.\n",
      "  ' ignored when e.g. forecasting.', ValueWarning)\n"
     ]
    },
    {
     "data": {
      "text/html": [
       "<table class=\"simpletable\">\n",
       "<caption>SARIMAX Results</caption>\n",
       "<tr>\n",
       "  <th>Dep. Variable:</th>               <td>energy</td>             <th>  No. Observations:  </th>    <td>25536</td>   \n",
       "</tr>\n",
       "<tr>\n",
       "  <th>Model:</th>           <td>SARIMAX(5, 1, 0)x(2, 0, 0, 12)</td> <th>  Log Likelihood     </th> <td>-138913.075</td>\n",
       "</tr>\n",
       "<tr>\n",
       "  <th>Date:</th>                   <td>Wed, 02 Jun 2021</td>        <th>  AIC                </th> <td>277846.150</td> \n",
       "</tr>\n",
       "<tr>\n",
       "  <th>Time:</th>                       <td>14:41:47</td>            <th>  BIC                </th> <td>277927.628</td> \n",
       "</tr>\n",
       "<tr>\n",
       "  <th>Sample:</th>                         <td>0</td>               <th>  HQIC               </th> <td>277872.495</td> \n",
       "</tr>\n",
       "<tr>\n",
       "  <th></th>                            <td> - 25536</td>            <th>                     </th>      <td> </td>     \n",
       "</tr>\n",
       "<tr>\n",
       "  <th>Covariance Type:</th>               <td>opg</td>              <th>                     </th>      <td> </td>     \n",
       "</tr>\n",
       "</table>\n",
       "<table class=\"simpletable\">\n",
       "<tr>\n",
       "            <td></td>              <th>coef</th>     <th>std err</th>      <th>z</th>      <th>P>|z|</th>  <th>[0.025</th>    <th>0.975]</th>  \n",
       "</tr>\n",
       "<tr>\n",
       "  <th>principal component1</th> <td>    0.1827</td> <td>    0.067</td> <td>    2.739</td> <td> 0.006</td> <td>    0.052</td> <td>    0.313</td>\n",
       "</tr>\n",
       "<tr>\n",
       "  <th>principal component2</th> <td>   -1.2496</td> <td>    0.103</td> <td>  -12.181</td> <td> 0.000</td> <td>   -1.451</td> <td>   -1.049</td>\n",
       "</tr>\n",
       "<tr>\n",
       "  <th>ar.L1</th>                <td>    0.3268</td> <td>    0.003</td> <td>   95.534</td> <td> 0.000</td> <td>    0.320</td> <td>    0.333</td>\n",
       "</tr>\n",
       "<tr>\n",
       "  <th>ar.L2</th>                <td>    0.0305</td> <td>    0.004</td> <td>    8.158</td> <td> 0.000</td> <td>    0.023</td> <td>    0.038</td>\n",
       "</tr>\n",
       "<tr>\n",
       "  <th>ar.L3</th>                <td>   -0.0284</td> <td>    0.004</td> <td>   -6.803</td> <td> 0.000</td> <td>   -0.037</td> <td>   -0.020</td>\n",
       "</tr>\n",
       "<tr>\n",
       "  <th>ar.L4</th>                <td>   -0.0631</td> <td>    0.005</td> <td>  -13.303</td> <td> 0.000</td> <td>   -0.072</td> <td>   -0.054</td>\n",
       "</tr>\n",
       "<tr>\n",
       "  <th>ar.L5</th>                <td>   -0.1242</td> <td>    0.005</td> <td>  -23.852</td> <td> 0.000</td> <td>   -0.134</td> <td>   -0.114</td>\n",
       "</tr>\n",
       "<tr>\n",
       "  <th>ar.S.L12</th>             <td>   -0.0561</td> <td>    0.021</td> <td>   -2.694</td> <td> 0.007</td> <td>   -0.097</td> <td>   -0.015</td>\n",
       "</tr>\n",
       "<tr>\n",
       "  <th>ar.S.L24</th>             <td>    0.4231</td> <td>    0.003</td> <td>  123.773</td> <td> 0.000</td> <td>    0.416</td> <td>    0.430</td>\n",
       "</tr>\n",
       "<tr>\n",
       "  <th>sigma2</th>               <td> 3109.3224</td> <td>   13.356</td> <td>  232.802</td> <td> 0.000</td> <td> 3083.145</td> <td> 3135.500</td>\n",
       "</tr>\n",
       "</table>\n",
       "<table class=\"simpletable\">\n",
       "<tr>\n",
       "  <th>Ljung-Box (L1) (Q):</th>     <td>7.06</td> <th>  Jarque-Bera (JB):  </th> <td>79828.43</td>\n",
       "</tr>\n",
       "<tr>\n",
       "  <th>Prob(Q):</th>                <td>0.01</td> <th>  Prob(JB):          </th>   <td>0.00</td>  \n",
       "</tr>\n",
       "<tr>\n",
       "  <th>Heteroskedasticity (H):</th> <td>0.98</td> <th>  Skew:              </th>   <td>-0.08</td> \n",
       "</tr>\n",
       "<tr>\n",
       "  <th>Prob(H) (two-sided):</th>    <td>0.32</td> <th>  Kurtosis:          </th>   <td>11.66</td> \n",
       "</tr>\n",
       "</table><br/><br/>Warnings:<br/>[1] Covariance matrix calculated using the outer product of gradients (complex-step)."
      ],
      "text/plain": [
       "<class 'statsmodels.iolib.summary.Summary'>\n",
       "\"\"\"\n",
       "                                     SARIMAX Results                                      \n",
       "==========================================================================================\n",
       "Dep. Variable:                             energy   No. Observations:                25536\n",
       "Model:             SARIMAX(5, 1, 0)x(2, 0, 0, 12)   Log Likelihood             -138913.075\n",
       "Date:                            Wed, 02 Jun 2021   AIC                         277846.150\n",
       "Time:                                    14:41:47   BIC                         277927.628\n",
       "Sample:                                         0   HQIC                        277872.495\n",
       "                                          - 25536                                         \n",
       "Covariance Type:                              opg                                         \n",
       "========================================================================================\n",
       "                           coef    std err          z      P>|z|      [0.025      0.975]\n",
       "----------------------------------------------------------------------------------------\n",
       "principal component1     0.1827      0.067      2.739      0.006       0.052       0.313\n",
       "principal component2    -1.2496      0.103    -12.181      0.000      -1.451      -1.049\n",
       "ar.L1                    0.3268      0.003     95.534      0.000       0.320       0.333\n",
       "ar.L2                    0.0305      0.004      8.158      0.000       0.023       0.038\n",
       "ar.L3                   -0.0284      0.004     -6.803      0.000      -0.037      -0.020\n",
       "ar.L4                   -0.0631      0.005    -13.303      0.000      -0.072      -0.054\n",
       "ar.L5                   -0.1242      0.005    -23.852      0.000      -0.134      -0.114\n",
       "ar.S.L12                -0.0561      0.021     -2.694      0.007      -0.097      -0.015\n",
       "ar.S.L24                 0.4231      0.003    123.773      0.000       0.416       0.430\n",
       "sigma2                3109.3224     13.356    232.802      0.000    3083.145    3135.500\n",
       "===================================================================================\n",
       "Ljung-Box (L1) (Q):                   7.06   Jarque-Bera (JB):             79828.43\n",
       "Prob(Q):                              0.01   Prob(JB):                         0.00\n",
       "Heteroskedasticity (H):               0.98   Skew:                            -0.08\n",
       "Prob(H) (two-sided):                  0.32   Kurtosis:                        11.66\n",
       "===================================================================================\n",
       "\n",
       "Warnings:\n",
       "[1] Covariance matrix calculated using the outer product of gradients (complex-step).\n",
       "\"\"\""
      ]
     },
     "execution_count": 281,
     "metadata": {},
     "output_type": "execute_result"
    }
   ],
   "source": [
    "model=SARIMAX(train_dangjin_floating['energy'],exog=train_dangjin_floating[['principal component1','principal component2']],order=(5,1,0),\n",
    "                       seasonal_order=(2, 0, 0, 12),enforce_invertibiblity=False)\n",
    "\n",
    "results=model.fit()\n",
    "\n",
    "results.summary()"
   ]
  },
  {
   "cell_type": "code",
   "execution_count": 282,
   "metadata": {
    "id": "Bj5sczQkm81j"
   },
   "outputs": [],
   "source": [
    "fcast4=results.predict(0,len(test_dangjin_floating),exog=test_dangjin_floating[['principal component1','principal component2']]).rename(\"FINAL SARIMAX FORECAST\")"
   ]
  },
  {
   "cell_type": "markdown",
   "metadata": {
    "id": "ljz-dfbxBlJi"
   },
   "source": [
    "## Submission 파일로 바꾸기"
   ]
  },
  {
   "cell_type": "code",
   "execution_count": 283,
   "metadata": {
    "id": "5EXVkXWbBlJj"
   },
   "outputs": [],
   "source": [
    "submission = pd.read_csv('sample_submission.csv')"
   ]
  },
  {
   "cell_type": "code",
   "execution_count": 284,
   "metadata": {
    "colab": {
     "base_uri": "https://localhost:8080/",
     "height": 402
    },
    "id": "xvfDBPHzBlJk",
    "outputId": "368b2d84-197f-42f1-e9e6-6c2f36f837fe"
   },
   "outputs": [
    {
     "data": {
      "text/html": [
       "<div>\n",
       "<style scoped>\n",
       "    .dataframe tbody tr th:only-of-type {\n",
       "        vertical-align: middle;\n",
       "    }\n",
       "\n",
       "    .dataframe tbody tr th {\n",
       "        vertical-align: top;\n",
       "    }\n",
       "\n",
       "    .dataframe thead th {\n",
       "        text-align: right;\n",
       "    }\n",
       "</style>\n",
       "<table border=\"1\" class=\"dataframe\">\n",
       "  <thead>\n",
       "    <tr style=\"text-align: right;\">\n",
       "      <th></th>\n",
       "      <th>time</th>\n",
       "      <th>dangjin_floating</th>\n",
       "      <th>dangjin_warehouse</th>\n",
       "      <th>dangjin</th>\n",
       "      <th>ulsan</th>\n",
       "    </tr>\n",
       "  </thead>\n",
       "  <tbody>\n",
       "    <tr>\n",
       "      <th>0</th>\n",
       "      <td>2021-02-01 01:00:00</td>\n",
       "      <td>0</td>\n",
       "      <td>0</td>\n",
       "      <td>0</td>\n",
       "      <td>0</td>\n",
       "    </tr>\n",
       "    <tr>\n",
       "      <th>1</th>\n",
       "      <td>2021-02-01 02:00:00</td>\n",
       "      <td>0</td>\n",
       "      <td>0</td>\n",
       "      <td>0</td>\n",
       "      <td>0</td>\n",
       "    </tr>\n",
       "    <tr>\n",
       "      <th>2</th>\n",
       "      <td>2021-02-01 03:00:00</td>\n",
       "      <td>0</td>\n",
       "      <td>0</td>\n",
       "      <td>0</td>\n",
       "      <td>0</td>\n",
       "    </tr>\n",
       "    <tr>\n",
       "      <th>3</th>\n",
       "      <td>2021-02-01 04:00:00</td>\n",
       "      <td>0</td>\n",
       "      <td>0</td>\n",
       "      <td>0</td>\n",
       "      <td>0</td>\n",
       "    </tr>\n",
       "    <tr>\n",
       "      <th>4</th>\n",
       "      <td>2021-02-01 05:00:00</td>\n",
       "      <td>0</td>\n",
       "      <td>0</td>\n",
       "      <td>0</td>\n",
       "      <td>0</td>\n",
       "    </tr>\n",
       "    <tr>\n",
       "      <th>...</th>\n",
       "      <td>...</td>\n",
       "      <td>...</td>\n",
       "      <td>...</td>\n",
       "      <td>...</td>\n",
       "      <td>...</td>\n",
       "    </tr>\n",
       "    <tr>\n",
       "      <th>666</th>\n",
       "      <td>2021-02-28 19:00:00</td>\n",
       "      <td>0</td>\n",
       "      <td>0</td>\n",
       "      <td>0</td>\n",
       "      <td>0</td>\n",
       "    </tr>\n",
       "    <tr>\n",
       "      <th>667</th>\n",
       "      <td>2021-02-28 20:00:00</td>\n",
       "      <td>0</td>\n",
       "      <td>0</td>\n",
       "      <td>0</td>\n",
       "      <td>0</td>\n",
       "    </tr>\n",
       "    <tr>\n",
       "      <th>668</th>\n",
       "      <td>2021-02-28 21:00:00</td>\n",
       "      <td>0</td>\n",
       "      <td>0</td>\n",
       "      <td>0</td>\n",
       "      <td>0</td>\n",
       "    </tr>\n",
       "    <tr>\n",
       "      <th>669</th>\n",
       "      <td>2021-02-28 22:00:00</td>\n",
       "      <td>0</td>\n",
       "      <td>0</td>\n",
       "      <td>0</td>\n",
       "      <td>0</td>\n",
       "    </tr>\n",
       "    <tr>\n",
       "      <th>670</th>\n",
       "      <td>2021-02-28 23:00:00</td>\n",
       "      <td>0</td>\n",
       "      <td>0</td>\n",
       "      <td>0</td>\n",
       "      <td>0</td>\n",
       "    </tr>\n",
       "  </tbody>\n",
       "</table>\n",
       "<p>671 rows × 5 columns</p>\n",
       "</div>"
      ],
      "text/plain": [
       "                    time  dangjin_floating  dangjin_warehouse  dangjin  ulsan\n",
       "0    2021-02-01 01:00:00                 0                  0        0      0\n",
       "1    2021-02-01 02:00:00                 0                  0        0      0\n",
       "2    2021-02-01 03:00:00                 0                  0        0      0\n",
       "3    2021-02-01 04:00:00                 0                  0        0      0\n",
       "4    2021-02-01 05:00:00                 0                  0        0      0\n",
       "..                   ...               ...                ...      ...    ...\n",
       "666  2021-02-28 19:00:00                 0                  0        0      0\n",
       "667  2021-02-28 20:00:00                 0                  0        0      0\n",
       "668  2021-02-28 21:00:00                 0                  0        0      0\n",
       "669  2021-02-28 22:00:00                 0                  0        0      0\n",
       "670  2021-02-28 23:00:00                 0                  0        0      0\n",
       "\n",
       "[671 rows x 5 columns]"
      ]
     },
     "execution_count": 284,
     "metadata": {},
     "output_type": "execute_result"
    }
   ],
   "source": [
    "submission.iloc[:671]"
   ]
  },
  {
   "cell_type": "code",
   "execution_count": 285,
   "metadata": {
    "id": "GDa7t_u80OAB"
   },
   "outputs": [],
   "source": [
    "fcast1=fcast1.reset_index()\n",
    "fcast1=fcast1['FINAL SARIMAX FORECAST']"
   ]
  },
  {
   "cell_type": "code",
   "execution_count": 286,
   "metadata": {
    "id": "0uCA3kaq0ODB"
   },
   "outputs": [],
   "source": [
    "fcast2=fcast2.reset_index()\n",
    "fcast2=fcast2['FINAL SARIMAX FORECAST']"
   ]
  },
  {
   "cell_type": "code",
   "execution_count": 287,
   "metadata": {
    "id": "ABJlHrVi0OJK"
   },
   "outputs": [],
   "source": [
    "fcast3=fcast3.reset_index()\n",
    "fcast3=fcast3['FINAL SARIMAX FORECAST']"
   ]
  },
  {
   "cell_type": "code",
   "execution_count": 293,
   "metadata": {},
   "outputs": [],
   "source": [
    "fcast4=fcast4.reset_index()\n",
    "fcast4=fcast4['FINAL SARIMAX FORECAST']"
   ]
  },
  {
   "cell_type": "code",
   "execution_count": 294,
   "metadata": {
    "id": "cHeXkU8QBlJl"
   },
   "outputs": [],
   "source": [
    "submission['ulsan'] = fcast1"
   ]
  },
  {
   "cell_type": "code",
   "execution_count": 295,
   "metadata": {
    "id": "fPOa313vBlJn"
   },
   "outputs": [],
   "source": [
    "submission['dangjin'] = fcast2"
   ]
  },
  {
   "cell_type": "code",
   "execution_count": 296,
   "metadata": {
    "id": "tP_bzHJ5BlJm"
   },
   "outputs": [],
   "source": [
    "submission['dangjin_warehouse'] = fcast3"
   ]
  },
  {
   "cell_type": "code",
   "execution_count": 297,
   "metadata": {
    "id": "GeugNVe0BlJn"
   },
   "outputs": [],
   "source": [
    "submission['dangjin_floating'] = fcast4"
   ]
  },
  {
   "cell_type": "code",
   "execution_count": 298,
   "metadata": {
    "id": "CxizjC8_yHpU"
   },
   "outputs": [
    {
     "data": {
      "text/html": [
       "<div>\n",
       "<style scoped>\n",
       "    .dataframe tbody tr th:only-of-type {\n",
       "        vertical-align: middle;\n",
       "    }\n",
       "\n",
       "    .dataframe tbody tr th {\n",
       "        vertical-align: top;\n",
       "    }\n",
       "\n",
       "    .dataframe thead th {\n",
       "        text-align: right;\n",
       "    }\n",
       "</style>\n",
       "<table border=\"1\" class=\"dataframe\">\n",
       "  <thead>\n",
       "    <tr style=\"text-align: right;\">\n",
       "      <th></th>\n",
       "      <th>time</th>\n",
       "      <th>dangjin_floating</th>\n",
       "      <th>dangjin_warehouse</th>\n",
       "      <th>dangjin</th>\n",
       "      <th>ulsan</th>\n",
       "    </tr>\n",
       "  </thead>\n",
       "  <tbody>\n",
       "    <tr>\n",
       "      <th>0</th>\n",
       "      <td>2021-02-01 01:00:00</td>\n",
       "      <td>26.215497</td>\n",
       "      <td>19.793938</td>\n",
       "      <td>27.737393</td>\n",
       "      <td>21.622630</td>\n",
       "    </tr>\n",
       "    <tr>\n",
       "      <th>1</th>\n",
       "      <td>2021-02-01 02:00:00</td>\n",
       "      <td>3.416561</td>\n",
       "      <td>2.461668</td>\n",
       "      <td>3.421702</td>\n",
       "      <td>-1.636494</td>\n",
       "    </tr>\n",
       "    <tr>\n",
       "      <th>2</th>\n",
       "      <td>2021-02-01 03:00:00</td>\n",
       "      <td>0.375783</td>\n",
       "      <td>0.251942</td>\n",
       "      <td>0.388746</td>\n",
       "      <td>-1.300520</td>\n",
       "    </tr>\n",
       "    <tr>\n",
       "      <th>3</th>\n",
       "      <td>2021-02-01 04:00:00</td>\n",
       "      <td>2.023717</td>\n",
       "      <td>1.524954</td>\n",
       "      <td>2.191048</td>\n",
       "      <td>-1.181914</td>\n",
       "    </tr>\n",
       "    <tr>\n",
       "      <th>4</th>\n",
       "      <td>2021-02-01 05:00:00</td>\n",
       "      <td>-1.808873</td>\n",
       "      <td>-1.327428</td>\n",
       "      <td>-1.930356</td>\n",
       "      <td>-0.913370</td>\n",
       "    </tr>\n",
       "    <tr>\n",
       "      <th>...</th>\n",
       "      <td>...</td>\n",
       "      <td>...</td>\n",
       "      <td>...</td>\n",
       "      <td>...</td>\n",
       "      <td>...</td>\n",
       "    </tr>\n",
       "    <tr>\n",
       "      <th>666</th>\n",
       "      <td>2021-02-28 19:00:00</td>\n",
       "      <td>87.446996</td>\n",
       "      <td>6.203040</td>\n",
       "      <td>34.139530</td>\n",
       "      <td>11.208255</td>\n",
       "    </tr>\n",
       "    <tr>\n",
       "      <th>667</th>\n",
       "      <td>2021-02-28 20:00:00</td>\n",
       "      <td>-19.511281</td>\n",
       "      <td>-0.015926</td>\n",
       "      <td>-18.654792</td>\n",
       "      <td>-1.403449</td>\n",
       "    </tr>\n",
       "    <tr>\n",
       "      <th>668</th>\n",
       "      <td>2021-02-28 21:00:00</td>\n",
       "      <td>-1.654321</td>\n",
       "      <td>-1.986333</td>\n",
       "      <td>-5.411013</td>\n",
       "      <td>5.157382</td>\n",
       "    </tr>\n",
       "    <tr>\n",
       "      <th>669</th>\n",
       "      <td>2021-02-28 22:00:00</td>\n",
       "      <td>14.345160</td>\n",
       "      <td>-2.826135</td>\n",
       "      <td>-3.532482</td>\n",
       "      <td>7.893012</td>\n",
       "    </tr>\n",
       "    <tr>\n",
       "      <th>670</th>\n",
       "      <td>2021-02-28 23:00:00</td>\n",
       "      <td>25.742462</td>\n",
       "      <td>1.767645</td>\n",
       "      <td>-3.160942</td>\n",
       "      <td>9.686297</td>\n",
       "    </tr>\n",
       "  </tbody>\n",
       "</table>\n",
       "<p>671 rows × 5 columns</p>\n",
       "</div>"
      ],
      "text/plain": [
       "                    time  dangjin_floating  dangjin_warehouse    dangjin  \\\n",
       "0    2021-02-01 01:00:00         26.215497          19.793938  27.737393   \n",
       "1    2021-02-01 02:00:00          3.416561           2.461668   3.421702   \n",
       "2    2021-02-01 03:00:00          0.375783           0.251942   0.388746   \n",
       "3    2021-02-01 04:00:00          2.023717           1.524954   2.191048   \n",
       "4    2021-02-01 05:00:00         -1.808873          -1.327428  -1.930356   \n",
       "..                   ...               ...                ...        ...   \n",
       "666  2021-02-28 19:00:00         87.446996           6.203040  34.139530   \n",
       "667  2021-02-28 20:00:00        -19.511281          -0.015926 -18.654792   \n",
       "668  2021-02-28 21:00:00         -1.654321          -1.986333  -5.411013   \n",
       "669  2021-02-28 22:00:00         14.345160          -2.826135  -3.532482   \n",
       "670  2021-02-28 23:00:00         25.742462           1.767645  -3.160942   \n",
       "\n",
       "         ulsan  \n",
       "0    21.622630  \n",
       "1    -1.636494  \n",
       "2    -1.300520  \n",
       "3    -1.181914  \n",
       "4    -0.913370  \n",
       "..         ...  \n",
       "666  11.208255  \n",
       "667  -1.403449  \n",
       "668   5.157382  \n",
       "669   7.893012  \n",
       "670   9.686297  \n",
       "\n",
       "[671 rows x 5 columns]"
      ]
     },
     "execution_count": 298,
     "metadata": {},
     "output_type": "execute_result"
    }
   ],
   "source": [
    "submission.iloc[:671]"
   ]
  },
  {
   "cell_type": "code",
   "execution_count": 299,
   "metadata": {
    "id": "JPUTt0m9BlJo"
   },
   "outputs": [],
   "source": [
    "submission.to_csv('submission_0602.csv', index=False)"
   ]
  }
 ],
 "metadata": {
  "accelerator": "GPU",
  "colab": {
   "collapsed_sections": [
    "MQ0Nr969Ek_C",
    "4SFPx8F5BlJW",
    "wPNXZ_dlZpEo",
    "NwIOrIdCQZcs",
    "VkHOqZjcZpMG",
    "95xRqKOoRqF4",
    "5V0vPYpLZpUy",
    "hXQskzH-Zper",
    "WyYUCtvLVWUF",
    "ZzVguLcK04d7",
    "vuRmGKDGmof6",
    "6OSUMwSDm5nG",
    "gjMrh4Kum-0S"
   ],
   "name": "Sarimax.ipynb",
   "provenance": []
  },
  "kernelspec": {
   "display_name": "Python 3",
   "language": "python",
   "name": "python3"
  },
  "language_info": {
   "codemirror_mode": {
    "name": "ipython",
    "version": 3
   },
   "file_extension": ".py",
   "mimetype": "text/x-python",
   "name": "python",
   "nbconvert_exporter": "python",
   "pygments_lexer": "ipython3",
   "version": "3.8.3"
  }
 },
 "nbformat": 4,
 "nbformat_minor": 4
}
